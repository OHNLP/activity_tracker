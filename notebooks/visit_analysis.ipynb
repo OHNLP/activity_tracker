{
 "cells": [
  {
   "cell_type": "code",
   "execution_count": 1,
   "metadata": {},
   "outputs": [],
   "source": [
    "import pandas as pd\n",
    "import pathlib\n",
    "import re\n",
    "import matplotlib.pyplot as plt\n",
    "import seaborn as sns\n",
    "import plotly.graph_objects as go\n",
    "\n",
    "# Import raw data into raw schema\n",
    "data_dir = pathlib.Path(\"../data/raw/\")\n",
    "db_path = \"../data/sqlite/activity_tracker.db\"\n",
    "mapper_path = pathlib.Path(\"../data/data_mapper.yml\")\n",
    "excel_path = pathlib.Path(\"../data/raw/MDE clinical data.xlsx\")"
   ]
  },
  {
   "cell_type": "code",
   "execution_count": 2,
   "metadata": {},
   "outputs": [],
   "source": [
    "def make_unique_columns(cols):\n",
    "    seen = {}\n",
    "    result = []\n",
    "    for col in cols:\n",
    "        base = col\n",
    "        if base not in seen:\n",
    "            seen[base] = 1\n",
    "            result.append(base)\n",
    "        else:\n",
    "            count = seen[base]\n",
    "            new_col = f\"{base}_{count}\"\n",
    "            while new_col in seen:\n",
    "                count += 1\n",
    "                new_col = f\"{base}_{count}\"\n",
    "            seen[base] = count + 1\n",
    "            seen[new_col] = 1\n",
    "            result.append(new_col)\n",
    "    return result\n",
    "\n",
    "def sanitize_column(col):\n",
    "    base = col.split(\".\")[0]\n",
    "    # Remove anything in parentheses (and the parentheses themselves)\n",
    "    base = re.sub(r\"\\(.*?\\)\", \"\", base)\n",
    "    # Normalize spacing and other characters\n",
    "    name = \"_\".join(base.strip().split()).lower()\n",
    "    # Remove remaining special characters (slashes, dashes, percent signs)\n",
    "    name = name.replace(\"/\", \"\").replace(\"-\", \"\").replace(\"%\", \"\")\n",
    "    return name\n",
    "\n",
    "def stack_visits(df, group_label):\n",
    "    df = df.rename(columns={\"Participant ID\": \"subject_id\"})\n",
    "    visit_markers = sorted([col for col in df.columns if col.startswith(\"V\") and len(col) == 2 and col[1].isdigit()],\n",
    "                           key=lambda x: int(x[1:]))\n",
    "    \n",
    "    all_visits = []\n",
    "\n",
    "    for i, marker in enumerate(visit_markers):\n",
    "        start = df.columns.get_loc(marker) + 1\n",
    "        end = df.columns.get_loc(visit_markers[i + 1]) if i + 1 < len(visit_markers) else len(df.columns)\n",
    "        visit_cols = df.columns[start:end].tolist()\n",
    "\n",
    "        visit_df = df[[\"subject_id\"] + visit_cols].copy()\n",
    "        cleaned_cols = [sanitize_column(col) for col in visit_cols]\n",
    "        visit_df.columns = [\"subject_id\"] + make_unique_columns(cleaned_cols)\n",
    "\n",
    "        visit_df.insert(1, \"group\", group_label)\n",
    "        visit_df.insert(2, \"visit_id\", int(marker[1:]))\n",
    "\n",
    "        all_visits.append(visit_df)\n",
    "\n",
    "    return pd.concat(all_visits, ignore_index=True)\n",
    "\n",
    "# Load data\n",
    "xls = pd.ExcelFile(excel_path)\n",
    "\n",
    "df_visits_control = stack_visits(pd.read_excel(xls, sheet_name=0), \"control\")\n",
    "df_visits_exercise = stack_visits(pd.read_excel(xls, sheet_name=1), \"exercise\")\n",
    "\n",
    "ffp_cols = [\"wt_loss\", \"weak\", \"slow\", \"exhaust\", \"phys_act\"]\n",
    "for df in [df_visits_control, df_visits_exercise]:\n",
    "    df[\"ffp_score\"] = df[ffp_cols].sum(axis=1, min_count=len(ffp_cols))\n",
    "    df[\"gait\"] = 4 / df[\"walk\"].replace(0, pd.NA)\n",
    "\n",
    "# Combine\n",
    "df = pd.concat([df_visits_control, df_visits_exercise], ignore_index=True)\n",
    "df = df.sort_values(by=[\"subject_id\", \"visit_id\"]).reset_index(drop=True)\n",
    "df = df[[\"subject_id\", \"group\", \"visit_id\", \"ffp_status\", \"ffp_score\"]]\n",
    "df[\"visit_id\"] = df[\"visit_id\"].astype(\"category\")\n",
    "df[\"ffp_status\"] = df[\"ffp_status\"].apply(lambda x: int(x) if pd.notnull(x) else pd.NA).astype(\"category\")\n",
    "df[\"ffp_score\"] = df[\"ffp_score\"].astype(float)"
   ]
  },
  {
   "cell_type": "code",
   "execution_count": 3,
   "metadata": {},
   "outputs": [
    {
     "name": "stdout",
     "output_type": "stream",
     "text": [
      "Unique patients in control group: 47\n",
      "Unique patients in exercise group: 42\n",
      "Total unique patients: 89\n"
     ]
    }
   ],
   "source": [
    "control_count = df[df['group'] == 'control']['subject_id'].nunique()\n",
    "exercise_count = df[df['group'] == 'exercise']['subject_id'].nunique()\n",
    "\n",
    "print(f\"Unique patients in control group: {control_count}\")\n",
    "print(f\"Unique patients in exercise group: {exercise_count}\")\n",
    "print(f\"Total unique patients: {control_count + exercise_count}\")"
   ]
  },
  {
   "cell_type": "code",
   "execution_count": 4,
   "metadata": {},
   "outputs": [
    {
     "data": {
      "text/html": [
       "<div>\n",
       "<style scoped>\n",
       "    .dataframe tbody tr th:only-of-type {\n",
       "        vertical-align: middle;\n",
       "    }\n",
       "\n",
       "    .dataframe tbody tr th {\n",
       "        vertical-align: top;\n",
       "    }\n",
       "\n",
       "    .dataframe thead th {\n",
       "        text-align: right;\n",
       "    }\n",
       "</style>\n",
       "<table border=\"1\" class=\"dataframe\">\n",
       "  <thead>\n",
       "    <tr style=\"text-align: right;\">\n",
       "      <th></th>\n",
       "      <th>subject_id</th>\n",
       "      <th>group</th>\n",
       "      <th>visit_id</th>\n",
       "      <th>ffp_status</th>\n",
       "      <th>ffp_score</th>\n",
       "    </tr>\n",
       "  </thead>\n",
       "  <tbody>\n",
       "    <tr>\n",
       "      <th>0</th>\n",
       "      <td>MDE01</td>\n",
       "      <td>control</td>\n",
       "      <td>1</td>\n",
       "      <td>0</td>\n",
       "      <td>4.0</td>\n",
       "    </tr>\n",
       "    <tr>\n",
       "      <th>1</th>\n",
       "      <td>MDE01</td>\n",
       "      <td>control</td>\n",
       "      <td>2</td>\n",
       "      <td>0</td>\n",
       "      <td>4.0</td>\n",
       "    </tr>\n",
       "    <tr>\n",
       "      <th>2</th>\n",
       "      <td>MDE01</td>\n",
       "      <td>control</td>\n",
       "      <td>3</td>\n",
       "      <td>1</td>\n",
       "      <td>2.0</td>\n",
       "    </tr>\n",
       "    <tr>\n",
       "      <th>3</th>\n",
       "      <td>MDE01</td>\n",
       "      <td>control</td>\n",
       "      <td>4</td>\n",
       "      <td>0</td>\n",
       "      <td>4.0</td>\n",
       "    </tr>\n",
       "    <tr>\n",
       "      <th>4</th>\n",
       "      <td>MDE01</td>\n",
       "      <td>control</td>\n",
       "      <td>5</td>\n",
       "      <td>0</td>\n",
       "      <td>3.0</td>\n",
       "    </tr>\n",
       "    <tr>\n",
       "      <th>...</th>\n",
       "      <td>...</td>\n",
       "      <td>...</td>\n",
       "      <td>...</td>\n",
       "      <td>...</td>\n",
       "      <td>...</td>\n",
       "    </tr>\n",
       "    <tr>\n",
       "      <th>440</th>\n",
       "      <td>MDE89</td>\n",
       "      <td>control</td>\n",
       "      <td>1</td>\n",
       "      <td>1</td>\n",
       "      <td>1.0</td>\n",
       "    </tr>\n",
       "    <tr>\n",
       "      <th>441</th>\n",
       "      <td>MDE89</td>\n",
       "      <td>control</td>\n",
       "      <td>2</td>\n",
       "      <td>NaN</td>\n",
       "      <td>NaN</td>\n",
       "    </tr>\n",
       "    <tr>\n",
       "      <th>442</th>\n",
       "      <td>MDE89</td>\n",
       "      <td>control</td>\n",
       "      <td>3</td>\n",
       "      <td>1</td>\n",
       "      <td>2.0</td>\n",
       "    </tr>\n",
       "    <tr>\n",
       "      <th>443</th>\n",
       "      <td>MDE89</td>\n",
       "      <td>control</td>\n",
       "      <td>4</td>\n",
       "      <td>1</td>\n",
       "      <td>1.0</td>\n",
       "    </tr>\n",
       "    <tr>\n",
       "      <th>444</th>\n",
       "      <td>MDE89</td>\n",
       "      <td>control</td>\n",
       "      <td>5</td>\n",
       "      <td>1</td>\n",
       "      <td>1.0</td>\n",
       "    </tr>\n",
       "  </tbody>\n",
       "</table>\n",
       "<p>445 rows × 5 columns</p>\n",
       "</div>"
      ],
      "text/plain": [
       "    subject_id    group visit_id ffp_status  ffp_score\n",
       "0        MDE01  control        1          0        4.0\n",
       "1        MDE01  control        2          0        4.0\n",
       "2        MDE01  control        3          1        2.0\n",
       "3        MDE01  control        4          0        4.0\n",
       "4        MDE01  control        5          0        3.0\n",
       "..         ...      ...      ...        ...        ...\n",
       "440      MDE89  control        1          1        1.0\n",
       "441      MDE89  control        2        NaN        NaN\n",
       "442      MDE89  control        3          1        2.0\n",
       "443      MDE89  control        4          1        1.0\n",
       "444      MDE89  control        5          1        1.0\n",
       "\n",
       "[445 rows x 5 columns]"
      ]
     },
     "execution_count": 4,
     "metadata": {},
     "output_type": "execute_result"
    }
   ],
   "source": [
    "df"
   ]
  },
  {
   "cell_type": "code",
   "execution_count": 5,
   "metadata": {},
   "outputs": [
    {
     "data": {
      "text/html": [
       "<div>\n",
       "<style scoped>\n",
       "    .dataframe tbody tr th:only-of-type {\n",
       "        vertical-align: middle;\n",
       "    }\n",
       "\n",
       "    .dataframe tbody tr th {\n",
       "        vertical-align: top;\n",
       "    }\n",
       "\n",
       "    .dataframe thead th {\n",
       "        text-align: right;\n",
       "    }\n",
       "</style>\n",
       "<table border=\"1\" class=\"dataframe\">\n",
       "  <thead>\n",
       "    <tr style=\"text-align: right;\">\n",
       "      <th></th>\n",
       "      <th>subject_id</th>\n",
       "      <th>group</th>\n",
       "      <th>visit_id</th>\n",
       "      <th>ffp_status</th>\n",
       "      <th>ffp_score</th>\n",
       "    </tr>\n",
       "  </thead>\n",
       "  <tbody>\n",
       "    <tr>\n",
       "      <th>310</th>\n",
       "      <td>MDE63</td>\n",
       "      <td>control</td>\n",
       "      <td>1</td>\n",
       "      <td>0</td>\n",
       "      <td>3.0</td>\n",
       "    </tr>\n",
       "    <tr>\n",
       "      <th>311</th>\n",
       "      <td>MDE63</td>\n",
       "      <td>control</td>\n",
       "      <td>2</td>\n",
       "      <td>NaN</td>\n",
       "      <td>NaN</td>\n",
       "    </tr>\n",
       "    <tr>\n",
       "      <th>312</th>\n",
       "      <td>MDE63</td>\n",
       "      <td>control</td>\n",
       "      <td>3</td>\n",
       "      <td>NaN</td>\n",
       "      <td>NaN</td>\n",
       "    </tr>\n",
       "    <tr>\n",
       "      <th>313</th>\n",
       "      <td>MDE63</td>\n",
       "      <td>control</td>\n",
       "      <td>4</td>\n",
       "      <td>NaN</td>\n",
       "      <td>NaN</td>\n",
       "    </tr>\n",
       "    <tr>\n",
       "      <th>314</th>\n",
       "      <td>MDE63</td>\n",
       "      <td>control</td>\n",
       "      <td>5</td>\n",
       "      <td>NaN</td>\n",
       "      <td>NaN</td>\n",
       "    </tr>\n",
       "  </tbody>\n",
       "</table>\n",
       "</div>"
      ],
      "text/plain": [
       "    subject_id    group visit_id ffp_status  ffp_score\n",
       "310      MDE63  control        1          0        3.0\n",
       "311      MDE63  control        2        NaN        NaN\n",
       "312      MDE63  control        3        NaN        NaN\n",
       "313      MDE63  control        4        NaN        NaN\n",
       "314      MDE63  control        5        NaN        NaN"
      ]
     },
     "execution_count": 5,
     "metadata": {},
     "output_type": "execute_result"
    }
   ],
   "source": [
    "df.query('subject_id == \"MDE63\"')"
   ]
  },
  {
   "cell_type": "code",
   "execution_count": 6,
   "metadata": {},
   "outputs": [
    {
     "name": "stderr",
     "output_type": "stream",
     "text": [
      "/var/folders/lh/0j8r8lvd4fv6tgr2wz99vbg4f02531/T/ipykernel_5401/1376547147.py:4: FutureWarning: The default of observed=False is deprecated and will be changed to True in a future version of pandas. Pass observed=False to retain current behavior or observed=True to adopt the future default and silence this warning.\n",
      "  mean_score = df.groupby(['group', 'visit_id'])['ffp_score'].mean().unstack('group')\n"
     ]
    },
    {
     "data": {
      "image/png": "[encoded data removed]",
      "text/plain": [
       "<Figure size 600x400 with 1 Axes>"
      ]
     },
     "metadata": {},
     "output_type": "display_data"
    }
   ],
   "source": [
    "import numpy as np\n",
    "\n",
    "# Calculate means for ffp_score only\n",
    "mean_score = df.groupby(['group', 'visit_id'])['ffp_score'].mean().unstack('group')\n",
    "\n",
    "visit_ids = sorted(df['visit_id'].unique(), key=lambda x: int(x))\n",
    "groups = ['control', 'exercise']\n",
    "bar_width = 0.35\n",
    "x = np.arange(len(visit_ids))\n",
    "\n",
    "fig, ax = plt.subplots(figsize=(6, 4))\n",
    "\n",
    "for i, group in enumerate(groups):\n",
    "    ax.bar(x + i*bar_width, mean_score[group], bar_width, label=group, alpha=0.8)\n",
    "\n",
    "ax.set_title('Mean FFP Score')\n",
    "ax.set_xlabel('Visit')\n",
    "ax.set_ylabel('FFP Score')\n",
    "ax.set_xticks(x + bar_width/2)\n",
    "ax.set_xticklabels(visit_ids)\n",
    "ax.legend(loc='center left', bbox_to_anchor=(1, 0.5))\n",
    "ax.grid(True, alpha=0.3)\n",
    "\n",
    "plt.tight_layout()\n",
    "sns.despine()\n",
    "plt.show()"
   ]
  },
  {
   "cell_type": "code",
   "execution_count": 14,
   "metadata": {},
   "outputs": [
    {
     "name": "stderr",
     "output_type": "stream",
     "text": [
      "/var/folders/lh/0j8r8lvd4fv6tgr2wz99vbg4f02531/T/ipykernel_5401/4263751205.py:2: FutureWarning:\n",
      "\n",
      "The default of observed=False is deprecated and will be changed to True in a future version of pandas. Pass observed=False to retain current behavior or observed=True to adopt the future default and silence this warning.\n",
      "\n"
     ]
    },
    {
     "data": {
      "application/vnd.plotly.v1+json": {
       "config": {
        "plotlyServerURL": "https://plot.ly"
       },
       "data": [
        {
         "marker": {
          "color": "#1f77b4"
         },
         "name": "Robust (0)",
         "text": {
          "bdata": "AAAAAAAAQkAAAAAAAAA4QAAAAAAAADJAAAAAAAAAM0AAAAAAAAAzQA==",
          "dtype": "f8"
         },
         "textposition": "inside",
         "type": "bar",
         "x": [
          "1",
          "2",
          "3",
          "4",
          "5"
         ],
         "y": {
          "bdata": "JBgSExM=",
          "dtype": "i1"
         }
        },
        {
         "marker": {
          "color": "#ff7f0e"
         },
         "name": "Pre-frail (1)",
         "text": {
          "bdata": "AAAAAACASkAAAAAAAIBEQAAAAAAAgEFAAAAAAAAASEAAAAAAAABFQA==",
          "dtype": "f8"
         },
         "textposition": "inside",
         "type": "bar",
         "x": [
          "1",
          "2",
          "3",
          "4",
          "5"
         ],
         "y": {
          "bdata": "NSkjMCo=",
          "dtype": "i1"
         }
        },
        {
         "marker": {
          "color": "#2ca02c"
         },
         "name": "Frail (2)",
         "text": {
          "bdata": "AAAAAAAAAAAAAAAAAAAUQAAAAAAAABhAAAAAAAAA8D8AAAAAAAAQQA==",
          "dtype": "f8"
         },
         "textposition": "inside",
         "type": "bar",
         "x": [
          "1",
          "2",
          "3",
          "4",
          "5"
         ],
         "y": {
          "bdata": "AAUGAQQ=",
          "dtype": "i1"
         }
        }
       ],
       "layout": {
        "barmode": "stack",
        "height": 500,
        "legend": {
         "title": {
          "text": "FFP Status"
         }
        },
        "template": {
         "data": {
          "bar": [
           {
            "error_x": {
             "color": "#2a3f5f"
            },
            "error_y": {
             "color": "#2a3f5f"
            },
            "marker": {
             "line": {
              "color": "#E5ECF6",
              "width": 0.5
             },
             "pattern": {
              "fillmode": "overlay",
              "size": 10,
              "solidity": 0.2
             }
            },
            "type": "bar"
           }
          ],
          "barpolar": [
           {
            "marker": {
             "line": {
              "color": "#E5ECF6",
              "width": 0.5
             },
             "pattern": {
              "fillmode": "overlay",
              "size": 10,
              "solidity": 0.2
             }
            },
            "type": "barpolar"
           }
          ],
          "carpet": [
           {
            "aaxis": {
             "endlinecolor": "#2a3f5f",
             "gridcolor": "white",
             "linecolor": "white",
             "minorgridcolor": "white",
             "startlinecolor": "#2a3f5f"
            },
            "baxis": {
             "endlinecolor": "#2a3f5f",
             "gridcolor": "white",
             "linecolor": "white",
             "minorgridcolor": "white",
             "startlinecolor": "#2a3f5f"
            },
            "type": "carpet"
           }
          ],
          "choropleth": [
           {
            "colorbar": {
             "outlinewidth": 0,
             "ticks": ""
            },
            "type": "choropleth"
           }
          ],
          "contour": [
           {
            "colorbar": {
             "outlinewidth": 0,
             "ticks": ""
            },
            "colorscale": [
             [
              0,
              "#0d0887"
             ],
             [
              0.1111111111111111,
              "#46039f"
             ],
             [
              0.2222222222222222,
              "#7201a8"
             ],
             [
              0.3333333333333333,
              "#9c179e"
             ],
             [
              0.4444444444444444,
              "#bd3786"
             ],
             [
              0.5555555555555556,
              "#d8576b"
             ],
             [
              0.6666666666666666,
              "#ed7953"
             ],
             [
              0.7777777777777778,
              "#fb9f3a"
             ],
             [
              0.8888888888888888,
              "#fdca26"
             ],
             [
              1,
              "#f0f921"
             ]
            ],
            "type": "contour"
           }
          ],
          "contourcarpet": [
           {
            "colorbar": {
             "outlinewidth": 0,
             "ticks": ""
            },
            "type": "contourcarpet"
           }
          ],
          "heatmap": [
           {
            "colorbar": {
             "outlinewidth": 0,
             "ticks": ""
            },
            "colorscale": [
             [
              0,
              "#0d0887"
             ],
             [
              0.1111111111111111,
              "#46039f"
             ],
             [
              0.2222222222222222,
              "#7201a8"
             ],
             [
              0.3333333333333333,
              "#9c179e"
             ],
             [
              0.4444444444444444,
              "#bd3786"
             ],
             [
              0.5555555555555556,
              "#d8576b"
             ],
             [
              0.6666666666666666,
              "#ed7953"
             ],
             [
              0.7777777777777778,
              "#fb9f3a"
             ],
             [
              0.8888888888888888,
              "#fdca26"
             ],
             [
              1,
              "#f0f921"
             ]
            ],
            "type": "heatmap"
           }
          ],
          "histogram": [
           {
            "marker": {
             "pattern": {
              "fillmode": "overlay",
              "size": 10,
              "solidity": 0.2
             }
            },
            "type": "histogram"
           }
          ],
          "histogram2d": [
           {
            "colorbar": {
             "outlinewidth": 0,
             "ticks": ""
            },
            "colorscale": [
             [
              0,
              "#0d0887"
             ],
             [
              0.1111111111111111,
              "#46039f"
             ],
             [
              0.2222222222222222,
              "#7201a8"
             ],
             [
              0.3333333333333333,
              "#9c179e"
             ],
             [
              0.4444444444444444,
              "#bd3786"
             ],
             [
              0.5555555555555556,
              "#d8576b"
             ],
             [
              0.6666666666666666,
              "#ed7953"
             ],
             [
              0.7777777777777778,
              "#fb9f3a"
             ],
             [
              0.8888888888888888,
              "#fdca26"
             ],
             [
              1,
              "#f0f921"
             ]
            ],
            "type": "histogram2d"
           }
          ],
          "histogram2dcontour": [
           {
            "colorbar": {
             "outlinewidth": 0,
             "ticks": ""
            },
            "colorscale": [
             [
              0,
              "#0d0887"
             ],
             [
              0.1111111111111111,
              "#46039f"
             ],
             [
              0.2222222222222222,
              "#7201a8"
             ],
             [
              0.3333333333333333,
              "#9c179e"
             ],
             [
              0.4444444444444444,
              "#bd3786"
             ],
             [
              0.5555555555555556,
              "#d8576b"
             ],
             [
              0.6666666666666666,
              "#ed7953"
             ],
             [
              0.7777777777777778,
              "#fb9f3a"
             ],
             [
              0.8888888888888888,
              "#fdca26"
             ],
             [
              1,
              "#f0f921"
             ]
            ],
            "type": "histogram2dcontour"
           }
          ],
          "mesh3d": [
           {
            "colorbar": {
             "outlinewidth": 0,
             "ticks": ""
            },
            "type": "mesh3d"
           }
          ],
          "parcoords": [
           {
            "line": {
             "colorbar": {
              "outlinewidth": 0,
              "ticks": ""
             }
            },
            "type": "parcoords"
           }
          ],
          "pie": [
           {
            "automargin": true,
            "type": "pie"
           }
          ],
          "scatter": [
           {
            "fillpattern": {
             "fillmode": "overlay",
             "size": 10,
             "solidity": 0.2
            },
            "type": "scatter"
           }
          ],
          "scatter3d": [
           {
            "line": {
             "colorbar": {
              "outlinewidth": 0,
              "ticks": ""
             }
            },
            "marker": {
             "colorbar": {
              "outlinewidth": 0,
              "ticks": ""
             }
            },
            "type": "scatter3d"
           }
          ],
          "scattercarpet": [
           {
            "marker": {
             "colorbar": {
              "outlinewidth": 0,
              "ticks": ""
             }
            },
            "type": "scattercarpet"
           }
          ],
          "scattergeo": [
           {
            "marker": {
             "colorbar": {
              "outlinewidth": 0,
              "ticks": ""
             }
            },
            "type": "scattergeo"
           }
          ],
          "scattergl": [
           {
            "marker": {
             "colorbar": {
              "outlinewidth": 0,
              "ticks": ""
             }
            },
            "type": "scattergl"
           }
          ],
          "scattermap": [
           {
            "marker": {
             "colorbar": {
              "outlinewidth": 0,
              "ticks": ""
             }
            },
            "type": "scattermap"
           }
          ],
          "scattermapbox": [
           {
            "marker": {
             "colorbar": {
              "outlinewidth": 0,
              "ticks": ""
             }
            },
            "type": "scattermapbox"
           }
          ],
          "scatterpolar": [
           {
            "marker": {
             "colorbar": {
              "outlinewidth": 0,
              "ticks": ""
             }
            },
            "type": "scatterpolar"
           }
          ],
          "scatterpolargl": [
           {
            "marker": {
             "colorbar": {
              "outlinewidth": 0,
              "ticks": ""
             }
            },
            "type": "scatterpolargl"
           }
          ],
          "scatterternary": [
           {
            "marker": {
             "colorbar": {
              "outlinewidth": 0,
              "ticks": ""
             }
            },
            "type": "scatterternary"
           }
          ],
          "surface": [
           {
            "colorbar": {
             "outlinewidth": 0,
             "ticks": ""
            },
            "colorscale": [
             [
              0,
              "#0d0887"
             ],
             [
              0.1111111111111111,
              "#46039f"
             ],
             [
              0.2222222222222222,
              "#7201a8"
             ],
             [
              0.3333333333333333,
              "#9c179e"
             ],
             [
              0.4444444444444444,
              "#bd3786"
             ],
             [
              0.5555555555555556,
              "#d8576b"
             ],
             [
              0.6666666666666666,
              "#ed7953"
             ],
             [
              0.7777777777777778,
              "#fb9f3a"
             ],
             [
              0.8888888888888888,
              "#fdca26"
             ],
             [
              1,
              "#f0f921"
             ]
            ],
            "type": "surface"
           }
          ],
          "table": [
           {
            "cells": {
             "fill": {
              "color": "#EBF0F8"
             },
             "line": {
              "color": "white"
             }
            },
            "header": {
             "fill": {
              "color": "#C8D4E3"
             },
             "line": {
              "color": "white"
             }
            },
            "type": "table"
           }
          ]
         },
         "layout": {
          "annotationdefaults": {
           "arrowcolor": "#2a3f5f",
           "arrowhead": 0,
           "arrowwidth": 1
          },
          "autotypenumbers": "strict",
          "coloraxis": {
           "colorbar": {
            "outlinewidth": 0,
            "ticks": ""
           }
          },
          "colorscale": {
           "diverging": [
            [
             0,
             "#8e0152"
            ],
            [
             0.1,
             "#c51b7d"
            ],
            [
             0.2,
             "#de77ae"
            ],
            [
             0.3,
             "#f1b6da"
            ],
            [
             0.4,
             "#fde0ef"
            ],
            [
             0.5,
             "#f7f7f7"
            ],
            [
             0.6,
             "#e6f5d0"
            ],
            [
             0.7,
             "#b8e186"
            ],
            [
             0.8,
             "#7fbc41"
            ],
            [
             0.9,
             "#4d9221"
            ],
            [
             1,
             "#276419"
            ]
           ],
           "sequential": [
            [
             0,
             "#0d0887"
            ],
            [
             0.1111111111111111,
             "#46039f"
            ],
            [
             0.2222222222222222,
             "#7201a8"
            ],
            [
             0.3333333333333333,
             "#9c179e"
            ],
            [
             0.4444444444444444,
             "#bd3786"
            ],
            [
             0.5555555555555556,
             "#d8576b"
            ],
            [
             0.6666666666666666,
             "#ed7953"
            ],
            [
             0.7777777777777778,
             "#fb9f3a"
            ],
            [
             0.8888888888888888,
             "#fdca26"
            ],
            [
             1,
             "#f0f921"
            ]
           ],
           "sequentialminus": [
            [
             0,
             "#0d0887"
            ],
            [
             0.1111111111111111,
             "#46039f"
            ],
            [
             0.2222222222222222,
             "#7201a8"
            ],
            [
             0.3333333333333333,
             "#9c179e"
            ],
            [
             0.4444444444444444,
             "#bd3786"
            ],
            [
             0.5555555555555556,
             "#d8576b"
            ],
            [
             0.6666666666666666,
             "#ed7953"
            ],
            [
             0.7777777777777778,
             "#fb9f3a"
            ],
            [
             0.8888888888888888,
             "#fdca26"
            ],
            [
             1,
             "#f0f921"
            ]
           ]
          },
          "colorway": [
           "#636efa",
           "#EF553B",
           "#00cc96",
           "#ab63fa",
           "#FFA15A",
           "#19d3f3",
           "#FF6692",
           "#B6E880",
           "#FF97FF",
           "#FECB52"
          ],
          "font": {
           "color": "#2a3f5f"
          },
          "geo": {
           "bgcolor": "white",
           "lakecolor": "white",
           "landcolor": "#E5ECF6",
           "showlakes": true,
           "showland": true,
           "subunitcolor": "white"
          },
          "hoverlabel": {
           "align": "left"
          },
          "hovermode": "closest",
          "mapbox": {
           "style": "light"
          },
          "paper_bgcolor": "white",
          "plot_bgcolor": "#E5ECF6",
          "polar": {
           "angularaxis": {
            "gridcolor": "white",
            "linecolor": "white",
            "ticks": ""
           },
           "bgcolor": "#E5ECF6",
           "radialaxis": {
            "gridcolor": "white",
            "linecolor": "white",
            "ticks": ""
           }
          },
          "scene": {
           "xaxis": {
            "backgroundcolor": "#E5ECF6",
            "gridcolor": "white",
            "gridwidth": 2,
            "linecolor": "white",
            "showbackground": true,
            "ticks": "",
            "zerolinecolor": "white"
           },
           "yaxis": {
            "backgroundcolor": "#E5ECF6",
            "gridcolor": "white",
            "gridwidth": 2,
            "linecolor": "white",
            "showbackground": true,
            "ticks": "",
            "zerolinecolor": "white"
           },
           "zaxis": {
            "backgroundcolor": "#E5ECF6",
            "gridcolor": "white",
            "gridwidth": 2,
            "linecolor": "white",
            "showbackground": true,
            "ticks": "",
            "zerolinecolor": "white"
           }
          },
          "shapedefaults": {
           "line": {
            "color": "#2a3f5f"
           }
          },
          "ternary": {
           "aaxis": {
            "gridcolor": "white",
            "linecolor": "white",
            "ticks": ""
           },
           "baxis": {
            "gridcolor": "white",
            "linecolor": "white",
            "ticks": ""
           },
           "bgcolor": "#E5ECF6",
           "caxis": {
            "gridcolor": "white",
            "linecolor": "white",
            "ticks": ""
           }
          },
          "title": {
           "x": 0.05
          },
          "xaxis": {
           "automargin": true,
           "gridcolor": "white",
           "linecolor": "white",
           "ticks": "",
           "title": {
            "standoff": 15
           },
           "zerolinecolor": "white",
           "zerolinewidth": 2
          },
          "yaxis": {
           "automargin": true,
           "gridcolor": "white",
           "linecolor": "white",
           "ticks": "",
           "title": {
            "standoff": 15
           },
           "zerolinecolor": "white",
           "zerolinewidth": 2
          }
         }
        },
        "title": {
         "text": "FFP Status"
        },
        "width": 800,
        "xaxis": {
         "title": {
          "text": "Visit"
         }
        },
        "yaxis": {
         "title": {
          "text": "Number of Participants"
         }
        }
       }
      }
     },
     "metadata": {},
     "output_type": "display_data"
    }
   ],
   "source": [
    "# Plot using Plotly\n",
    "ffp_distribution = df.groupby([\"visit_id\", \"ffp_status\"]).size().unstack(fill_value=0)\n",
    "\n",
    "fig = go.Figure()\n",
    "statuses = [0, 1, 2]\n",
    "labels = ['Robust (0)', 'Pre-frail (1)', 'Frail (2)']\n",
    "colors = ['#1f77b4', '#ff7f0e', '#2ca02c']\n",
    "\n",
    "for status, label, color in zip(statuses, labels, colors):\n",
    "    fig.add_trace(go.Bar(\n",
    "        x=ffp_distribution.index.astype(str),\n",
    "        y=ffp_distribution[status],\n",
    "        name=label,\n",
    "        text=ffp_distribution[status],\n",
    "        textposition='inside',\n",
    "        marker_color=color\n",
    "    ))\n",
    "\n",
    "fig.update_layout(\n",
    "    width=800,      # width in pixels\n",
    "    height=500, \n",
    "    title=\"FFP Status\",\n",
    "    xaxis_title=\"Visit\",\n",
    "    yaxis_title=\"Number of Participants\",\n",
    "    barmode='stack',\n",
    "    legend_title=\"FFP Status\"\n",
    ")\n",
    "\n",
    "fig.show()"
   ]
  },
  {
   "cell_type": "code",
   "execution_count": null,
   "metadata": {},
   "outputs": [
    {
     "name": "stderr",
     "output_type": "stream",
     "text": [
      "/var/folders/lh/0j8r8lvd4fv6tgr2wz99vbg4f02531/T/ipykernel_85136/665780957.py:1: FutureWarning: The default of observed=False is deprecated and will be changed to True in a future version of pandas. Pass observed=False to retain current behavior or observed=True to adopt the future default and silence this warning.\n",
      "  df.groupby('visit_id')['ffp_status'].count()\n",
      "/var/folders/lh/0j8r8lvd4fv6tgr2wz99vbg4f02531/T/ipykernel_85136/665780957.py:2: FutureWarning: The default of observed=False is deprecated and will be changed to True in a future version of pandas. Pass observed=False to retain current behavior or observed=True to adopt the future default and silence this warning.\n",
      "  df.groupby('visit_id')['ffp_score'].count()\n"
     ]
    },
    {
     "data": {
      "text/plain": [
       "visit_id\n",
       "1    89\n",
       "2    70\n",
       "3    58\n",
       "4    68\n",
       "5    65\n",
       "Name: ffp_score, dtype: int64"
      ]
     },
     "metadata": {},
     "output_type": "display_data"
    }
   ],
   "source": [
    "df.groupby('visit_id')['ffp_status'].count()\n",
    "df.groupby('visit_id')['ffp_score'].count()"
   ]
  },
  {
   "cell_type": "code",
   "execution_count": null,
   "metadata": {},
   "outputs": [
    {
     "data": {
      "text/html": [
       "<div>\n",
       "<style scoped>\n",
       "    .dataframe tbody tr th:only-of-type {\n",
       "        vertical-align: middle;\n",
       "    }\n",
       "\n",
       "    .dataframe tbody tr th {\n",
       "        vertical-align: top;\n",
       "    }\n",
       "\n",
       "    .dataframe thead th {\n",
       "        text-align: right;\n",
       "    }\n",
       "</style>\n",
       "<table border=\"1\" class=\"dataframe\">\n",
       "  <thead>\n",
       "    <tr style=\"text-align: right;\">\n",
       "      <th></th>\n",
       "      <th>subject_id</th>\n",
       "      <th>group</th>\n",
       "      <th>visit_id</th>\n",
       "      <th>ffp_status</th>\n",
       "      <th>ffp_score</th>\n",
       "    </tr>\n",
       "  </thead>\n",
       "  <tbody>\n",
       "    <tr>\n",
       "      <th>415</th>\n",
       "      <td>MDE84</td>\n",
       "      <td>control</td>\n",
       "      <td>1</td>\n",
       "      <td>1</td>\n",
       "      <td>2</td>\n",
       "    </tr>\n",
       "    <tr>\n",
       "      <th>416</th>\n",
       "      <td>MDE84</td>\n",
       "      <td>control</td>\n",
       "      <td>2</td>\n",
       "      <td>NaN</td>\n",
       "      <td>0</td>\n",
       "    </tr>\n",
       "    <tr>\n",
       "      <th>417</th>\n",
       "      <td>MDE84</td>\n",
       "      <td>control</td>\n",
       "      <td>3</td>\n",
       "      <td>2</td>\n",
       "      <td>3</td>\n",
       "    </tr>\n",
       "    <tr>\n",
       "      <th>418</th>\n",
       "      <td>MDE84</td>\n",
       "      <td>control</td>\n",
       "      <td>4</td>\n",
       "      <td>1</td>\n",
       "      <td>1</td>\n",
       "    </tr>\n",
       "    <tr>\n",
       "      <th>419</th>\n",
       "      <td>MDE84</td>\n",
       "      <td>control</td>\n",
       "      <td>5</td>\n",
       "      <td>1</td>\n",
       "      <td>1</td>\n",
       "    </tr>\n",
       "  </tbody>\n",
       "</table>\n",
       "</div>"
      ],
      "text/plain": [
       "    subject_id    group visit_id ffp_status  ffp_score\n",
       "415      MDE84  control        1          1          2\n",
       "416      MDE84  control        2        NaN          0\n",
       "417      MDE84  control        3          2          3\n",
       "418      MDE84  control        4          1          1\n",
       "419      MDE84  control        5          1          1"
      ]
     },
     "metadata": {},
     "output_type": "display_data"
    }
   ],
   "source": [
    "df.query('subject_id == \"MDE84\"')"
   ]
  },
  {
   "cell_type": "code",
   "execution_count": null,
   "metadata": {},
   "outputs": [
    {
     "data": {
      "text/html": [
       "<div>\n",
       "<style scoped>\n",
       "    .dataframe tbody tr th:only-of-type {\n",
       "        vertical-align: middle;\n",
       "    }\n",
       "\n",
       "    .dataframe tbody tr th {\n",
       "        vertical-align: top;\n",
       "    }\n",
       "\n",
       "    .dataframe thead th {\n",
       "        text-align: right;\n",
       "    }\n",
       "</style>\n",
       "<table border=\"1\" class=\"dataframe\">\n",
       "  <thead>\n",
       "    <tr style=\"text-align: right;\">\n",
       "      <th></th>\n",
       "      <th>subject_id</th>\n",
       "      <th>group</th>\n",
       "      <th>visit_id</th>\n",
       "      <th>ffp_status</th>\n",
       "      <th>ffp_score</th>\n",
       "    </tr>\n",
       "  </thead>\n",
       "  <tbody>\n",
       "    <tr>\n",
       "      <th>415</th>\n",
       "      <td>MDE84</td>\n",
       "      <td>control</td>\n",
       "      <td>1</td>\n",
       "      <td>1</td>\n",
       "      <td>2</td>\n",
       "    </tr>\n",
       "    <tr>\n",
       "      <th>416</th>\n",
       "      <td>MDE84</td>\n",
       "      <td>control</td>\n",
       "      <td>2</td>\n",
       "      <td>NaN</td>\n",
       "      <td>0</td>\n",
       "    </tr>\n",
       "    <tr>\n",
       "      <th>417</th>\n",
       "      <td>MDE84</td>\n",
       "      <td>control</td>\n",
       "      <td>3</td>\n",
       "      <td>2</td>\n",
       "      <td>3</td>\n",
       "    </tr>\n",
       "    <tr>\n",
       "      <th>418</th>\n",
       "      <td>MDE84</td>\n",
       "      <td>control</td>\n",
       "      <td>4</td>\n",
       "      <td>1</td>\n",
       "      <td>1</td>\n",
       "    </tr>\n",
       "    <tr>\n",
       "      <th>419</th>\n",
       "      <td>MDE84</td>\n",
       "      <td>control</td>\n",
       "      <td>5</td>\n",
       "      <td>1</td>\n",
       "      <td>1</td>\n",
       "    </tr>\n",
       "  </tbody>\n",
       "</table>\n",
       "</div>"
      ],
      "text/plain": [
       "    subject_id    group visit_id ffp_status  ffp_score\n",
       "415      MDE84  control        1          1          2\n",
       "416      MDE84  control        2        NaN          0\n",
       "417      MDE84  control        3          2          3\n",
       "418      MDE84  control        4          1          1\n",
       "419      MDE84  control        5          1          1"
      ]
     },
     "metadata": {},
     "output_type": "display_data"
    }
   ],
   "source": [
    "df.query('subject_id == \"MDE84\"')"
   ]
  },
  {
   "cell_type": "code",
   "execution_count": null,
   "metadata": {},
   "outputs": [
    {
     "data": {
      "text/html": [
       "<div>\n",
       "<style scoped>\n",
       "    .dataframe tbody tr th:only-of-type {\n",
       "        vertical-align: middle;\n",
       "    }\n",
       "\n",
       "    .dataframe tbody tr th {\n",
       "        vertical-align: top;\n",
       "    }\n",
       "\n",
       "    .dataframe thead th {\n",
       "        text-align: right;\n",
       "    }\n",
       "</style>\n",
       "<table border=\"1\" class=\"dataframe\">\n",
       "  <thead>\n",
       "    <tr style=\"text-align: right;\">\n",
       "      <th></th>\n",
       "      <th>subject_id</th>\n",
       "      <th>group</th>\n",
       "      <th>visit_id</th>\n",
       "      <th>ffp_status</th>\n",
       "      <th>ffp_score</th>\n",
       "    </tr>\n",
       "  </thead>\n",
       "  <tbody>\n",
       "    <tr>\n",
       "      <th>415</th>\n",
       "      <td>MDE84</td>\n",
       "      <td>control</td>\n",
       "      <td>1</td>\n",
       "      <td>1</td>\n",
       "      <td>2</td>\n",
       "    </tr>\n",
       "    <tr>\n",
       "      <th>416</th>\n",
       "      <td>MDE84</td>\n",
       "      <td>control</td>\n",
       "      <td>2</td>\n",
       "      <td>NaN</td>\n",
       "      <td>0</td>\n",
       "    </tr>\n",
       "    <tr>\n",
       "      <th>417</th>\n",
       "      <td>MDE84</td>\n",
       "      <td>control</td>\n",
       "      <td>3</td>\n",
       "      <td>2</td>\n",
       "      <td>3</td>\n",
       "    </tr>\n",
       "    <tr>\n",
       "      <th>418</th>\n",
       "      <td>MDE84</td>\n",
       "      <td>control</td>\n",
       "      <td>4</td>\n",
       "      <td>1</td>\n",
       "      <td>1</td>\n",
       "    </tr>\n",
       "    <tr>\n",
       "      <th>419</th>\n",
       "      <td>MDE84</td>\n",
       "      <td>control</td>\n",
       "      <td>5</td>\n",
       "      <td>1</td>\n",
       "      <td>1</td>\n",
       "    </tr>\n",
       "  </tbody>\n",
       "</table>\n",
       "</div>"
      ],
      "text/plain": [
       "    subject_id    group visit_id ffp_status  ffp_score\n",
       "415      MDE84  control        1          1          2\n",
       "416      MDE84  control        2        NaN          0\n",
       "417      MDE84  control        3          2          3\n",
       "418      MDE84  control        4          1          1\n",
       "419      MDE84  control        5          1          1"
      ]
     },
     "metadata": {},
     "output_type": "display_data"
    }
   ],
   "source": [
    "df.query('subject_id == \"MDE84\"')"
   ]
  },
  {
   "cell_type": "code",
   "execution_count": 13,
   "metadata": {},
   "outputs": [
    {
     "data": {
      "text/plain": [
       "array(['MDE01', 'MDE02', 'MDE03', 'MDE04', 'MDE05', 'MDE06', 'MDE07',\n",
       "       'MDE08', 'MDE09', 'MDE10', 'MDE11', 'MDE12', 'MDE13', 'MDE14',\n",
       "       'MDE15', 'MDE16', 'MDE17', 'MDE18', 'MDE19', 'MDE20', 'MDE21',\n",
       "       'MDE22', 'MDE23', 'MDE24', 'MDE25', 'MDE26', 'MDE27', 'MDE28',\n",
       "       'MDE29', 'MDE30', 'MDE31', 'MDE32', 'MDE33', 'MDE34', 'MDE35',\n",
       "       'MDE36', 'MDE37', 'MDE38', 'MDE39', 'MDE40', 'MDE41', 'MDE42',\n",
       "       'MDE43', 'MDE44', 'MDE45', 'MDE46', 'MDE47', 'MDE48', 'MDE49',\n",
       "       'MDE50', 'MDE51', 'MDE52', 'MDE53', 'MDE54', 'MDE55', 'MDE56',\n",
       "       'MDE57', 'MDE58', 'MDE59', 'MDE60', 'MDE61', 'MDE62', 'MDE63',\n",
       "       'MDE64', 'MDE65', 'MDE66', 'MDE67', 'MDE68', 'MDE69', 'MDE70',\n",
       "       'MDE71', 'MDE72', 'MDE73', 'MDE74', 'MDE75', 'MDE76', 'MDE77',\n",
       "       'MDE78', 'MDE79', 'MDE80', 'MDE81', 'MDE82', 'MDE83', 'MDE84',\n",
       "       'MDE85', 'MDE86', 'MDE87', 'MDE88', 'MDE89'], dtype=object)"
      ]
     },
     "execution_count": 13,
     "metadata": {},
     "output_type": "execute_result"
    }
   ],
   "source": [
    "df_visits_all[\"subject_id\"].unique()"
   ]
  },
  {
   "cell_type": "code",
   "execution_count": 15,
   "metadata": {},
   "outputs": [
    {
     "data": {
      "text/html": [
       "<div>\n",
       "<style scoped>\n",
       "    .dataframe tbody tr th:only-of-type {\n",
       "        vertical-align: middle;\n",
       "    }\n",
       "\n",
       "    .dataframe tbody tr th {\n",
       "        vertical-align: top;\n",
       "    }\n",
       "\n",
       "    .dataframe thead th {\n",
       "        text-align: right;\n",
       "    }\n",
       "</style>\n",
       "<table border=\"1\" class=\"dataframe\">\n",
       "  <thead>\n",
       "    <tr style=\"text-align: right;\">\n",
       "      <th></th>\n",
       "      <th>subject_id</th>\n",
       "      <th>group</th>\n",
       "      <th>visit_id</th>\n",
       "      <th>ht</th>\n",
       "      <th>wt</th>\n",
       "      <th>ffp_status</th>\n",
       "      <th>wt_loss</th>\n",
       "      <th>weak</th>\n",
       "      <th>slow</th>\n",
       "      <th>exhaust</th>\n",
       "      <th>...</th>\n",
       "      <th>prep</th>\n",
       "      <th>house</th>\n",
       "      <th>laun</th>\n",
       "      <th>transp</th>\n",
       "      <th>meds</th>\n",
       "      <th>fina</th>\n",
       "      <th>uls</th>\n",
       "      <th>lsns</th>\n",
       "      <th>minicog</th>\n",
       "      <th>moca</th>\n",
       "    </tr>\n",
       "  </thead>\n",
       "  <tbody>\n",
       "    <tr>\n",
       "      <th>5</th>\n",
       "      <td>MDE02</td>\n",
       "      <td>exercise</td>\n",
       "      <td>1</td>\n",
       "      <td>65.0</td>\n",
       "      <td>191.6</td>\n",
       "      <td>1.0</td>\n",
       "      <td>0.0</td>\n",
       "      <td>1.0</td>\n",
       "      <td>0.0</td>\n",
       "      <td>1.0</td>\n",
       "      <td>...</td>\n",
       "      <td>0.0</td>\n",
       "      <td>1.0</td>\n",
       "      <td>1.0</td>\n",
       "      <td>1.0</td>\n",
       "      <td>1.0</td>\n",
       "      <td>1.0</td>\n",
       "      <td>54.0</td>\n",
       "      <td>23.0</td>\n",
       "      <td>3.0</td>\n",
       "      <td>NaN</td>\n",
       "    </tr>\n",
       "    <tr>\n",
       "      <th>6</th>\n",
       "      <td>MDE02</td>\n",
       "      <td>exercise</td>\n",
       "      <td>2</td>\n",
       "      <td>64.5</td>\n",
       "      <td>184.4</td>\n",
       "      <td>2.0</td>\n",
       "      <td>0.0</td>\n",
       "      <td>0.0</td>\n",
       "      <td>0.0</td>\n",
       "      <td>0.0</td>\n",
       "      <td>...</td>\n",
       "      <td>1.0</td>\n",
       "      <td>1.0</td>\n",
       "      <td>1.0</td>\n",
       "      <td>1.0</td>\n",
       "      <td>0.0</td>\n",
       "      <td>1.0</td>\n",
       "      <td>55.0</td>\n",
       "      <td>41.0</td>\n",
       "      <td>NaN</td>\n",
       "      <td>NaN</td>\n",
       "    </tr>\n",
       "    <tr>\n",
       "      <th>7</th>\n",
       "      <td>MDE02</td>\n",
       "      <td>exercise</td>\n",
       "      <td>3</td>\n",
       "      <td>64.5</td>\n",
       "      <td>181.8</td>\n",
       "      <td>1.0</td>\n",
       "      <td>0.0</td>\n",
       "      <td>1.0</td>\n",
       "      <td>1.0</td>\n",
       "      <td>0.0</td>\n",
       "      <td>...</td>\n",
       "      <td>1.0</td>\n",
       "      <td>1.0</td>\n",
       "      <td>1.0</td>\n",
       "      <td>1.0</td>\n",
       "      <td>0.0</td>\n",
       "      <td>1.0</td>\n",
       "      <td>53.0</td>\n",
       "      <td>40.0</td>\n",
       "      <td>NaN</td>\n",
       "      <td>NaN</td>\n",
       "    </tr>\n",
       "    <tr>\n",
       "      <th>8</th>\n",
       "      <td>MDE02</td>\n",
       "      <td>exercise</td>\n",
       "      <td>4</td>\n",
       "      <td>64.5</td>\n",
       "      <td>175.2</td>\n",
       "      <td>1.0</td>\n",
       "      <td>1.0</td>\n",
       "      <td>1.0</td>\n",
       "      <td>0.0</td>\n",
       "      <td>0.0</td>\n",
       "      <td>...</td>\n",
       "      <td>NaN</td>\n",
       "      <td>NaN</td>\n",
       "      <td>NaN</td>\n",
       "      <td>NaN</td>\n",
       "      <td>NaN</td>\n",
       "      <td>NaN</td>\n",
       "      <td>49.0</td>\n",
       "      <td>40.0</td>\n",
       "      <td>NaN</td>\n",
       "      <td>NaN</td>\n",
       "    </tr>\n",
       "    <tr>\n",
       "      <th>9</th>\n",
       "      <td>MDE02</td>\n",
       "      <td>exercise</td>\n",
       "      <td>5</td>\n",
       "      <td>64.5</td>\n",
       "      <td>178.5</td>\n",
       "      <td>1.0</td>\n",
       "      <td>1.0</td>\n",
       "      <td>0.0</td>\n",
       "      <td>0.0</td>\n",
       "      <td>0.0</td>\n",
       "      <td>...</td>\n",
       "      <td>0.0</td>\n",
       "      <td>1.0</td>\n",
       "      <td>1.0</td>\n",
       "      <td>1.0</td>\n",
       "      <td>0.0</td>\n",
       "      <td>1.0</td>\n",
       "      <td>53.0</td>\n",
       "      <td>44.0</td>\n",
       "      <td>5.0</td>\n",
       "      <td>18.0</td>\n",
       "    </tr>\n",
       "  </tbody>\n",
       "</table>\n",
       "<p>5 rows × 35 columns</p>\n",
       "</div>"
      ],
      "text/plain": [
       "  subject_id     group  visit_id    ht     wt  ffp_status  wt_loss  weak  \\\n",
       "5      MDE02  exercise         1  65.0  191.6         1.0      0.0   1.0   \n",
       "6      MDE02  exercise         2  64.5  184.4         2.0      0.0   0.0   \n",
       "7      MDE02  exercise         3  64.5  181.8         1.0      0.0   1.0   \n",
       "8      MDE02  exercise         4  64.5  175.2         1.0      1.0   1.0   \n",
       "9      MDE02  exercise         5  64.5  178.5         1.0      1.0   0.0   \n",
       "\n",
       "   slow  exhaust  ...  prep  house  laun  transp  meds  fina   uls  lsns  \\\n",
       "5   0.0      1.0  ...   0.0    1.0   1.0     1.0   1.0   1.0  54.0  23.0   \n",
       "6   0.0      0.0  ...   1.0    1.0   1.0     1.0   0.0   1.0  55.0  41.0   \n",
       "7   1.0      0.0  ...   1.0    1.0   1.0     1.0   0.0   1.0  53.0  40.0   \n",
       "8   0.0      0.0  ...   NaN    NaN   NaN     NaN   NaN   NaN  49.0  40.0   \n",
       "9   0.0      0.0  ...   0.0    1.0   1.0     1.0   0.0   1.0  53.0  44.0   \n",
       "\n",
       "   minicog  moca  \n",
       "5      3.0   NaN  \n",
       "6      NaN   NaN  \n",
       "7      NaN   NaN  \n",
       "8      NaN   NaN  \n",
       "9      5.0  18.0  \n",
       "\n",
       "[5 rows x 35 columns]"
      ]
     },
     "execution_count": 15,
     "metadata": {},
     "output_type": "execute_result"
    }
   ],
   "source": [
    "df_visits_all.query('subject_id == \"MDE02\"')"
   ]
  },
  {
   "cell_type": "code",
   "execution_count": 19,
   "metadata": {},
   "outputs": [
    {
     "name": "stdout",
     "output_type": "stream",
     "text": [
      "subject_id\n",
      "MDE01    5\n",
      "MDE02    5\n",
      "MDE03    5\n",
      "MDE04    5\n",
      "MDE05    5\n",
      "        ..\n",
      "MDE85    5\n",
      "MDE86    5\n",
      "MDE87    5\n",
      "MDE88    5\n",
      "MDE89    5\n",
      "Name: visit_id, Length: 89, dtype: int64\n"
     ]
    }
   ],
   "source": [
    "visits_per_patient = df_visits_all.groupby('subject_id')['visit_id'].nunique()\n",
    "print(visits_per_patient)"
   ]
  },
  {
   "cell_type": "code",
   "execution_count": null,
   "metadata": {},
   "outputs": [],
   "source": []
  }
 ],
 "metadata": {
  "kernelspec": {
   "display_name": "activity_tracker",
   "language": "python",
   "name": "python3"
  },
  "language_info": {
   "codemirror_mode": {
    "name": "ipython",
    "version": 3
   },
   "file_extension": ".py",
   "mimetype": "text/x-python",
   "name": "python",
   "nbconvert_exporter": "python",
   "pygments_lexer": "ipython3",
   "version": "3.13.2"
  }
 },
 "nbformat": 4,
 "nbformat_minor": 2
}
