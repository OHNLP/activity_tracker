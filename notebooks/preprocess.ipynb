{
 "cells": [
  {
   "cell_type": "markdown",
   "metadata": {},
   "source": [
    "### Import data into database"
   ]
  },
  {
   "cell_type": "code",
   "execution_count": null,
   "metadata": {},
   "outputs": [],
   "source": [
    "from activity_tracker import utils\n",
    "import sqlite3\n",
    "import pandas as pd\n",
    "import pathlib\n",
    "import re\n",
    "\n",
    "# Import raw data into raw schema\n",
    "data_dir = pathlib.Path(\"../data/raw/\")\n",
    "db_path = \"../data/sqlite/activity_tracker.db\"\n",
    "excluded_files = [\n",
    "    \"fitbitCoreTemperature_merged.csv\",\n",
    "    \"fitbitSkinTemperature_merged.csv\",\n",
    "    \"weightLogInfo_merged.csv\",\n",
    "    \"mde_clinical_data.csv\"\n",
    "]"
   ]
  },
  {
   "cell_type": "code",
   "execution_count": null,
   "metadata": {},
   "outputs": [],
   "source": [
    "def camel_to_snake(name: str) -> str:\n",
    "    name = name.replace(\"_merged\", \"\")\n",
    "    return re.sub(r'(?<=[a-z0-9])([A-Z])', r'_\\1', name).lower()\n",
    "\n",
    "conn = sqlite3.connect(db_path)\n",
    "\n",
    "for file_path in data_dir.glob(\"*.csv\"):\n",
    "    if file_path.name in excluded_files:\n",
    "        continue\n",
    "\n",
    "    table_name = camel_to_snake(file_path.stem)\n",
    "    df = pd.read_csv(file_path)\n",
    "    try:\n",
    "        df.to_sql(table_name, conn, if_exists=\"fail\", index=False)\n",
    "        print(f\"Table {table_name} created with {len(df)} rows.\")\n",
    "    except ValueError:\n",
    "        print(f\"Skipping {table_name} — table already exists.\")\n",
    "conn.close()"
   ]
  },
  {
   "cell_type": "markdown",
   "metadata": {},
   "source": [
    "### Create a subject table"
   ]
  },
  {
   "cell_type": "code",
   "execution_count": null,
   "metadata": {},
   "outputs": [],
   "source": [
    "# Load Excel file\n",
    "excel_path = pathlib.Path(\"../data/raw/MDE clinical data.xlsx\")\n",
    "xls = pd.ExcelFile(excel_path)\n",
    "df_control = pd.read_excel(xls, sheet_name=xls.sheet_names[0])\n",
    "df_exercise = pd.read_excel(xls, sheet_name=xls.sheet_names[1])\n",
    "\n",
    "# Add group labels\n",
    "df_control[\"group\"] = \"control\"\n",
    "df_exercise[\"group\"] = \"exercise\"\n",
    "df_combined = pd.concat([df_control, df_exercise], ignore_index=True)\n",
    "\n",
    "subject_columns = [\n",
    "    \"Participant ID\", \"group\", \"Sex\", \"Age\", \"Eth\", \"Race\",\n",
    "    \"Mth Inc\", \"Educ\", \"Mari\", \"Liv Sit\"\n",
    "]\n",
    "df_subject = df_combined[subject_columns].copy()\n",
    "\n",
    "df_subject.columns = (\n",
    "    df_subject.columns.str.strip()\n",
    "    .str.lower()\n",
    "    .str.replace(\" \", \"_\")\n",
    "    .str.replace(\".\", \"_\")\n",
    ")\n",
    "\n",
    "# Rename columns\n",
    "rename_map = {\n",
    "    \"participant_id\": \"subject_id\",\n",
    "    \"eth\": \"ethnicity\",\n",
    "    \"mth_inc\": \"monthly_income\",\n",
    "    \"educ\": \"education\",\n",
    "    \"mari\": \"marital_status\",\n",
    "    \"liv_sit\": \"living_situation\"\n",
    "}\n",
    "df_subject = df_subject.rename(columns=rename_map)\n",
    "df_subject = df_subject.sort_values(by=\"subject_id\").reset_index(drop=True)\n",
    "\n",
    "excel_path = pathlib.Path(\"../data/raw/MDE clinical data.xlsx\")\n",
    "data_dictionary = utils.load_data_dictionary(excel_path)\n",
    "\n",
    "# Apply data dictionary to map integer values to strings\n",
    "for column in data_dictionary:\n",
    "    if column in df_subject.columns:\n",
    "        df_subject[column] = df_subject[column].map(data_dictionary[column])\n",
    "        \n",
    "conn = sqlite3.connect(db_path)\n",
    "df_subject.to_sql(\"subject\", conn, if_exists=\"replace\", index=False)\n",
    "\n",
    "conn.commit()\n",
    "conn.close()"
   ]
  }
 ],
 "metadata": {
  "language_info": {
   "name": "python"
  }
 },
 "nbformat": 4,
 "nbformat_minor": 2
}
