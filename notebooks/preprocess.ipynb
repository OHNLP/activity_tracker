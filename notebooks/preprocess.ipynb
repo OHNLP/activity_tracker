{
 "cells": [
  {
   "cell_type": "code",
   "execution_count": null,
   "metadata": {},
   "outputs": [],
   "source": [
    "import sqlite3\n",
    "import pandas as pd\n",
    "import pathlib\n",
    "import re\n",
    "\n",
    "# Import raw data into raw schema\n",
    "data_dir = pathlib.Path(\"../data/raw/\")\n",
    "raw_db_path = \"../data/sqlite/raw.db\"\n",
    "excluded_files = [\n",
    "    \"fitbitCoreTemperature_merged.csv\",\n",
    "    \"fitbitSkinTemperature_merged.csv\",\n",
    "    \"weightLogInfo_merged.csv\",\n",
    "    \"mde_clinical_data.csv\"\n",
    "]\n",
    "\n",
    "def camel_to_snake(name: str) -> str:\n",
    "    name = name.replace(\"_merged\", \"\")\n",
    "    return re.sub(r'(?<=[a-z0-9])([A-Z])', r'_\\1', name).lower()\n",
    "\n",
    "conn = sqlite3.connect(raw_db_path)\n",
    "\n",
    "for file_path in data_dir.glob(\"*.csv\"):\n",
    "    if file_path.name in excluded_files:\n",
    "        continue\n",
    "\n",
    "    table_name = camel_to_snake(file_path.stem)\n",
    "    df = pd.read_csv(file_path)\n",
    "    df.to_sql(table_name, conn, if_exists=\"replace\", index=False)\n",
    "    print(f\"Table {table_name} created with {len(df)} rows.\")\n",
    "\n",
    "conn.close()"
   ]
  }
 ],
 "metadata": {
  "language_info": {
   "name": "python"
  }
 },
 "nbformat": 4,
 "nbformat_minor": 2
}
