{
 "cells": [
  {
   "cell_type": "code",
   "execution_count": null,
   "metadata": {},
   "outputs": [],
   "source": [
    "from activity_tracker import utils\n",
    "import sqlite3\n",
    "import pandas as pd\n",
    "import pathlib\n",
    "\n",
    "pd.set_option('display.max_columns', 100)\n",
    "pd.set_option('display.max_rows', 100)\n",
    "\n",
    "data_dir = pathlib.Path(\"../data\")\n",
    "db_path = data_dir / \"sqlite\" / \"analysis.db\"\n",
    "conn = sqlite3.connect(db_path)"
   ]
  },
  {
   "cell_type": "code",
   "execution_count": null,
   "metadata": {},
   "outputs": [],
   "source": [
    "df_subject = pd.read_sql_query(\"SELECT * FROM subject\", conn)\n",
    "df_visit = pd.read_sql_query(\"SELECT * FROM visit\", conn)\n",
    "df_measurement = pd.read_sql_query(\"SELECT * FROM daily_measurement\", conn)"
   ]
  },
  {
   "cell_type": "code",
   "execution_count": null,
   "metadata": {},
   "outputs": [],
   "source": [
    "start_col = df_measurement.columns.get_loc(\"percentage_wear_time\") + 1\n",
    "right_cols = df_measurement.columns[start_col:]\n",
    "\n",
    "# Drop rows where all right-side values are NaN\n",
    "filtered_df = df_measurement[~df_measurement[right_cols].isna().all(axis=1)].reset_index(drop=True)\n",
    "filtered_df"
   ]
  },
  {
   "cell_type": "code",
   "execution_count": null,
   "metadata": {},
   "outputs": [],
   "source": [
    "len(df_measurement[\"subject_id\"].unique())\n",
    "len(filtered_df[\"subject_id\"].unique())"
   ]
  },
  {
   "cell_type": "code",
   "execution_count": null,
   "metadata": {},
   "outputs": [],
   "source": [
    "len(df_visit[\"subject_id\"].unique())"
   ]
  },
  {
   "cell_type": "code",
   "execution_count": null,
   "metadata": {},
   "outputs": [],
   "source": [
    "df_subject"
   ]
  },
  {
   "cell_type": "code",
   "execution_count": null,
   "metadata": {},
   "outputs": [],
   "source": [
    "import matplotlib.pyplot as plt\n",
    "import seaborn as sns\n",
    "\n",
    "sns.set(style=\"whitegrid\")\n",
    "fig, axes = plt.subplots(3, 3, figsize=(12, 12), dpi=100)\n",
    "cat_vars = [\n",
    "    (\"sex\", \"Sex Distribution\"),\n",
    "    (\"ethnicity\", \"Ethnicity Distribution\"),\n",
    "    (\"race\", \"Race Distribution\"),\n",
    "    (\"marital_status\", \"Marital Status\"),\n",
    "    (\"living_situation\", \"Living Situation\"),\n",
    "    (\"group\", \"Study Group\"),\n",
    "]\n",
    "\n",
    "for idx, (col, title) in enumerate(cat_vars):\n",
    "    ax = axes[idx // 3, idx % 3]\n",
    "    counts = df_subject[col].value_counts()\n",
    "    sns.barplot(x=counts.index, y=counts.values, ax=ax, palette=\"Set2\")\n",
    "    ax.set_title(title)\n",
    "    ax.set_ylabel(\"Count\")\n",
    "    ax.set_xlabel(\"\")\n",
    "    if col in [\"marital_status\", \"living_situation\"]:\n",
    "        ax.tick_params(axis='x', rotation=45)\n",
    "    else:\n",
    "        ax.tick_params(axis='x', rotation=0)\n",
    "    for p in ax.patches:\n",
    "        ax.annotate(f'{int(p.get_height())}', (p.get_x() + p.get_width() / 2., p.get_height()), \n",
    "                    ha='center', va='bottom')\n",
    "    sns.despine(ax=ax)\n",
    "\n",
    "sns.histplot(df_subject[\"age\"].dropna(), bins=15, kde=True, ax=axes[2, 0], color=\"#4c72b0\")\n",
    "axes[2, 0].set_title(\"Age\")\n",
    "axes[2, 0].set_xlabel(\"Age\")\n",
    "sns.despine(ax=axes[2, 0])\n",
    "\n",
    "sns.histplot(df_subject[\"monthly_income\"].dropna(), bins=15, kde=True, ax=axes[2, 1], color=\"#dd8452\")\n",
    "axes[2, 1].set_title(\"Monthly Income\")\n",
    "axes[2, 1].set_xlabel(\"Monthly Income\")\n",
    "sns.despine(ax=axes[2, 1])\n",
    "\n",
    "sns.histplot(df_subject[\"education\"].dropna(), bins=10, kde=False, ax=axes[2, 2], color=\"#55a868\")\n",
    "axes[2, 2].set_title(\"Education Level\")\n",
    "axes[2, 2].set_xlabel(\"Years of Education\")\n",
    "sns.despine(ax=axes[2, 2])\n",
    "\n",
    "plt.tight_layout()\n",
    "plt.show()"
   ]
  },
  {
   "cell_type": "code",
   "execution_count": null,
   "metadata": {},
   "outputs": [],
   "source": [
    "cursor = conn.cursor()\n",
    "cursor.execute(\"\"\"\n",
    "SELECT COUNT(subject_id), \"group\"\n",
    "FROM subject\n",
    "GROUP BY \"group\";\n",
    "\"\"\")\n",
    "results = cursor.fetchall()\n",
    "results"
   ]
  }
 ],
 "metadata": {
  "kernelspec": {
   "display_name": "activity_tracker",
   "language": "python",
   "name": "python3"
  },
  "language_info": {
   "codemirror_mode": {
    "name": "ipython",
    "version": 3
   },
   "file_extension": ".py",
   "mimetype": "text/x-python",
   "name": "python",
   "nbconvert_exporter": "python",
   "pygments_lexer": "ipython3",
   "version": "3.13.2"
  }
 },
 "nbformat": 4,
 "nbformat_minor": 2
}
