{
 "cells": [
  {
   "cell_type": "code",
   "execution_count": 29,
   "metadata": {},
   "outputs": [],
   "source": [
    "from activity_tracker import utils\n",
    "import sqlite3\n",
    "import pandas as pd\n",
    "import pathlib\n",
    "import matplotlib.pyplot as plt\n",
    "import seaborn as sns\n",
    "import warnings\n",
    "warnings.filterwarnings(\"ignore\")\n",
    "\n",
    "pd.set_option('display.max_columns', 100)\n",
    "pd.set_option('display.max_rows', 100)\n",
    "\n",
    "data_dir = pathlib.Path(\"../data\")\n",
    "db_path = data_dir / \"sqlite\" / \"analysis.db\"\n",
    "mapper_path = data_dir / \"data_mapper.yml\"\n",
    "conn = sqlite3.connect(db_path)\n",
    "mapping_dict = utils.load_data_mapper(mapper_path)"
   ]
  },
  {
   "cell_type": "code",
   "execution_count": 31,
   "metadata": {},
   "outputs": [
    {
     "data": {
      "text/html": [
       "<div>\n",
       "<style scoped>\n",
       "    .dataframe tbody tr th:only-of-type {\n",
       "        vertical-align: middle;\n",
       "    }\n",
       "\n",
       "    .dataframe tbody tr th {\n",
       "        vertical-align: top;\n",
       "    }\n",
       "\n",
       "    .dataframe thead th {\n",
       "        text-align: right;\n",
       "    }\n",
       "</style>\n",
       "<table border=\"1\" class=\"dataframe\">\n",
       "  <thead>\n",
       "    <tr style=\"text-align: right;\">\n",
       "      <th></th>\n",
       "      <th>subject_id</th>\n",
       "      <th>date</th>\n",
       "      <th>total_minutes_wear_time</th>\n",
       "      <th>percentage_wear_time</th>\n",
       "      <th>total_steps</th>\n",
       "      <th>total_distance</th>\n",
       "      <th>tracker_distance</th>\n",
       "      <th>logged_activities_distance</th>\n",
       "      <th>very_active_distance</th>\n",
       "      <th>moderately_active_distance</th>\n",
       "      <th>light_active_distance</th>\n",
       "      <th>sedentary_active_distance</th>\n",
       "      <th>very_active_minutes</th>\n",
       "      <th>fairly_active_minutes</th>\n",
       "      <th>lightly_active_minutes</th>\n",
       "      <th>sedentary_minutes</th>\n",
       "      <th>calories</th>\n",
       "      <th>floors</th>\n",
       "      <th>calories_bmr</th>\n",
       "      <th>marginal_calories</th>\n",
       "      <th>resting_heart_rate</th>\n",
       "      <th>average_sp_o2</th>\n",
       "      <th>min_sp_o2</th>\n",
       "      <th>max_sp_o2</th>\n",
       "    </tr>\n",
       "  </thead>\n",
       "  <tbody>\n",
       "    <tr>\n",
       "      <th>0</th>\n",
       "      <td>MDE001</td>\n",
       "      <td>2021-07-19</td>\n",
       "      <td>85</td>\n",
       "      <td>5.902778</td>\n",
       "      <td>147.0</td>\n",
       "      <td>0.1100</td>\n",
       "      <td>0.1100</td>\n",
       "      <td>0.0</td>\n",
       "      <td>0.0</td>\n",
       "      <td>0.0000</td>\n",
       "      <td>0.0000</td>\n",
       "      <td>0.0</td>\n",
       "      <td>0.0</td>\n",
       "      <td>0.0</td>\n",
       "      <td>0.0</td>\n",
       "      <td>1440.0</td>\n",
       "      <td>1489.0</td>\n",
       "      <td>None</td>\n",
       "      <td>1489.0</td>\n",
       "      <td>0.0</td>\n",
       "      <td>NaN</td>\n",
       "      <td>NaN</td>\n",
       "      <td>NaN</td>\n",
       "      <td>NaN</td>\n",
       "    </tr>\n",
       "    <tr>\n",
       "      <th>1</th>\n",
       "      <td>MDE001</td>\n",
       "      <td>2021-07-20</td>\n",
       "      <td>630</td>\n",
       "      <td>43.750000</td>\n",
       "      <td>12.0</td>\n",
       "      <td>0.0100</td>\n",
       "      <td>0.0100</td>\n",
       "      <td>0.0</td>\n",
       "      <td>0.0</td>\n",
       "      <td>0.0000</td>\n",
       "      <td>0.0000</td>\n",
       "      <td>0.0</td>\n",
       "      <td>0.0</td>\n",
       "      <td>0.0</td>\n",
       "      <td>0.0</td>\n",
       "      <td>1440.0</td>\n",
       "      <td>1473.0</td>\n",
       "      <td>None</td>\n",
       "      <td>1457.0</td>\n",
       "      <td>0.0</td>\n",
       "      <td>NaN</td>\n",
       "      <td>NaN</td>\n",
       "      <td>NaN</td>\n",
       "      <td>NaN</td>\n",
       "    </tr>\n",
       "    <tr>\n",
       "      <th>2</th>\n",
       "      <td>MDE001</td>\n",
       "      <td>2021-07-21</td>\n",
       "      <td>0</td>\n",
       "      <td>0.000000</td>\n",
       "      <td>0.0</td>\n",
       "      <td>0.0000</td>\n",
       "      <td>0.0000</td>\n",
       "      <td>0.0</td>\n",
       "      <td>0.0</td>\n",
       "      <td>0.0000</td>\n",
       "      <td>0.0000</td>\n",
       "      <td>0.0</td>\n",
       "      <td>0.0</td>\n",
       "      <td>0.0</td>\n",
       "      <td>0.0</td>\n",
       "      <td>1440.0</td>\n",
       "      <td>1425.0</td>\n",
       "      <td>None</td>\n",
       "      <td>1425.0</td>\n",
       "      <td>0.0</td>\n",
       "      <td>NaN</td>\n",
       "      <td>NaN</td>\n",
       "      <td>NaN</td>\n",
       "      <td>NaN</td>\n",
       "    </tr>\n",
       "    <tr>\n",
       "      <th>3</th>\n",
       "      <td>MDE001</td>\n",
       "      <td>2021-07-22</td>\n",
       "      <td>0</td>\n",
       "      <td>0.000000</td>\n",
       "      <td>0.0</td>\n",
       "      <td>0.0000</td>\n",
       "      <td>0.0000</td>\n",
       "      <td>0.0</td>\n",
       "      <td>0.0</td>\n",
       "      <td>0.0000</td>\n",
       "      <td>0.0000</td>\n",
       "      <td>0.0</td>\n",
       "      <td>0.0</td>\n",
       "      <td>0.0</td>\n",
       "      <td>0.0</td>\n",
       "      <td>1440.0</td>\n",
       "      <td>1425.0</td>\n",
       "      <td>None</td>\n",
       "      <td>1425.0</td>\n",
       "      <td>0.0</td>\n",
       "      <td>NaN</td>\n",
       "      <td>NaN</td>\n",
       "      <td>NaN</td>\n",
       "      <td>NaN</td>\n",
       "    </tr>\n",
       "    <tr>\n",
       "      <th>4</th>\n",
       "      <td>MDE001</td>\n",
       "      <td>2021-07-23</td>\n",
       "      <td>0</td>\n",
       "      <td>0.000000</td>\n",
       "      <td>0.0</td>\n",
       "      <td>0.0000</td>\n",
       "      <td>0.0000</td>\n",
       "      <td>0.0</td>\n",
       "      <td>0.0</td>\n",
       "      <td>0.0000</td>\n",
       "      <td>0.0000</td>\n",
       "      <td>0.0</td>\n",
       "      <td>0.0</td>\n",
       "      <td>0.0</td>\n",
       "      <td>0.0</td>\n",
       "      <td>1440.0</td>\n",
       "      <td>1425.0</td>\n",
       "      <td>None</td>\n",
       "      <td>1425.0</td>\n",
       "      <td>0.0</td>\n",
       "      <td>NaN</td>\n",
       "      <td>NaN</td>\n",
       "      <td>NaN</td>\n",
       "      <td>NaN</td>\n",
       "    </tr>\n",
       "    <tr>\n",
       "      <th>...</th>\n",
       "      <td>...</td>\n",
       "      <td>...</td>\n",
       "      <td>...</td>\n",
       "      <td>...</td>\n",
       "      <td>...</td>\n",
       "      <td>...</td>\n",
       "      <td>...</td>\n",
       "      <td>...</td>\n",
       "      <td>...</td>\n",
       "      <td>...</td>\n",
       "      <td>...</td>\n",
       "      <td>...</td>\n",
       "      <td>...</td>\n",
       "      <td>...</td>\n",
       "      <td>...</td>\n",
       "      <td>...</td>\n",
       "      <td>...</td>\n",
       "      <td>...</td>\n",
       "      <td>...</td>\n",
       "      <td>...</td>\n",
       "      <td>...</td>\n",
       "      <td>...</td>\n",
       "      <td>...</td>\n",
       "      <td>...</td>\n",
       "    </tr>\n",
       "    <tr>\n",
       "      <th>1643</th>\n",
       "      <td>MDE101</td>\n",
       "      <td>2025-05-08</td>\n",
       "      <td>109</td>\n",
       "      <td>7.569444</td>\n",
       "      <td>0.0</td>\n",
       "      <td>0.0000</td>\n",
       "      <td>0.0000</td>\n",
       "      <td>0.0</td>\n",
       "      <td>0.0</td>\n",
       "      <td>0.0000</td>\n",
       "      <td>0.0000</td>\n",
       "      <td>0.0</td>\n",
       "      <td>0.0</td>\n",
       "      <td>0.0</td>\n",
       "      <td>4.0</td>\n",
       "      <td>1436.0</td>\n",
       "      <td>1160.0</td>\n",
       "      <td>None</td>\n",
       "      <td>1152.0</td>\n",
       "      <td>7.0</td>\n",
       "      <td>NaN</td>\n",
       "      <td>NaN</td>\n",
       "      <td>NaN</td>\n",
       "      <td>NaN</td>\n",
       "    </tr>\n",
       "    <tr>\n",
       "      <th>1644</th>\n",
       "      <td>MDE101</td>\n",
       "      <td>2025-05-09</td>\n",
       "      <td>717</td>\n",
       "      <td>49.791667</td>\n",
       "      <td>3920.0</td>\n",
       "      <td>2.6631</td>\n",
       "      <td>2.6631</td>\n",
       "      <td>0.0</td>\n",
       "      <td>0.0</td>\n",
       "      <td>0.2084</td>\n",
       "      <td>2.4547</td>\n",
       "      <td>0.0</td>\n",
       "      <td>0.0</td>\n",
       "      <td>0.0</td>\n",
       "      <td>204.0</td>\n",
       "      <td>1236.0</td>\n",
       "      <td>1487.0</td>\n",
       "      <td>None</td>\n",
       "      <td>1152.0</td>\n",
       "      <td>268.0</td>\n",
       "      <td>56.0</td>\n",
       "      <td>NaN</td>\n",
       "      <td>NaN</td>\n",
       "      <td>NaN</td>\n",
       "    </tr>\n",
       "    <tr>\n",
       "      <th>1645</th>\n",
       "      <td>MDE101</td>\n",
       "      <td>2025-05-10</td>\n",
       "      <td>165</td>\n",
       "      <td>11.458333</td>\n",
       "      <td>1160.0</td>\n",
       "      <td>0.7877</td>\n",
       "      <td>0.7877</td>\n",
       "      <td>0.0</td>\n",
       "      <td>0.0</td>\n",
       "      <td>0.0470</td>\n",
       "      <td>0.7407</td>\n",
       "      <td>0.0</td>\n",
       "      <td>0.0</td>\n",
       "      <td>0.0</td>\n",
       "      <td>64.0</td>\n",
       "      <td>1376.0</td>\n",
       "      <td>1259.0</td>\n",
       "      <td>None</td>\n",
       "      <td>1152.0</td>\n",
       "      <td>86.0</td>\n",
       "      <td>NaN</td>\n",
       "      <td>NaN</td>\n",
       "      <td>NaN</td>\n",
       "      <td>NaN</td>\n",
       "    </tr>\n",
       "    <tr>\n",
       "      <th>1646</th>\n",
       "      <td>MDE101</td>\n",
       "      <td>2025-05-11</td>\n",
       "      <td>0</td>\n",
       "      <td>0.000000</td>\n",
       "      <td>0.0</td>\n",
       "      <td>0.0000</td>\n",
       "      <td>0.0000</td>\n",
       "      <td>0.0</td>\n",
       "      <td>0.0</td>\n",
       "      <td>0.0000</td>\n",
       "      <td>0.0000</td>\n",
       "      <td>0.0</td>\n",
       "      <td>0.0</td>\n",
       "      <td>0.0</td>\n",
       "      <td>0.0</td>\n",
       "      <td>1440.0</td>\n",
       "      <td>1152.0</td>\n",
       "      <td>None</td>\n",
       "      <td>1152.0</td>\n",
       "      <td>0.0</td>\n",
       "      <td>NaN</td>\n",
       "      <td>NaN</td>\n",
       "      <td>NaN</td>\n",
       "      <td>NaN</td>\n",
       "    </tr>\n",
       "    <tr>\n",
       "      <th>1647</th>\n",
       "      <td>MDE101</td>\n",
       "      <td>2025-05-12</td>\n",
       "      <td>0</td>\n",
       "      <td>0.000000</td>\n",
       "      <td>0.0</td>\n",
       "      <td>0.0000</td>\n",
       "      <td>0.0000</td>\n",
       "      <td>0.0</td>\n",
       "      <td>0.0</td>\n",
       "      <td>0.0000</td>\n",
       "      <td>0.0000</td>\n",
       "      <td>0.0</td>\n",
       "      <td>0.0</td>\n",
       "      <td>0.0</td>\n",
       "      <td>0.0</td>\n",
       "      <td>635.0</td>\n",
       "      <td>509.0</td>\n",
       "      <td>None</td>\n",
       "      <td>508.0</td>\n",
       "      <td>0.0</td>\n",
       "      <td>NaN</td>\n",
       "      <td>NaN</td>\n",
       "      <td>NaN</td>\n",
       "      <td>NaN</td>\n",
       "    </tr>\n",
       "  </tbody>\n",
       "</table>\n",
       "<p>14271 rows × 24 columns</p>\n",
       "</div>"
      ],
      "text/plain": [
       "     subject_id       date  total_minutes_wear_time  percentage_wear_time  \\\n",
       "0        MDE001 2021-07-19                       85              5.902778   \n",
       "1        MDE001 2021-07-20                      630             43.750000   \n",
       "2        MDE001 2021-07-21                        0              0.000000   \n",
       "3        MDE001 2021-07-22                        0              0.000000   \n",
       "4        MDE001 2021-07-23                        0              0.000000   \n",
       "...         ...        ...                      ...                   ...   \n",
       "1643     MDE101 2025-05-08                      109              7.569444   \n",
       "1644     MDE101 2025-05-09                      717             49.791667   \n",
       "1645     MDE101 2025-05-10                      165             11.458333   \n",
       "1646     MDE101 2025-05-11                        0              0.000000   \n",
       "1647     MDE101 2025-05-12                        0              0.000000   \n",
       "\n",
       "      total_steps  total_distance  tracker_distance  \\\n",
       "0           147.0          0.1100            0.1100   \n",
       "1            12.0          0.0100            0.0100   \n",
       "2             0.0          0.0000            0.0000   \n",
       "3             0.0          0.0000            0.0000   \n",
       "4             0.0          0.0000            0.0000   \n",
       "...           ...             ...               ...   \n",
       "1643          0.0          0.0000            0.0000   \n",
       "1644       3920.0          2.6631            2.6631   \n",
       "1645       1160.0          0.7877            0.7877   \n",
       "1646          0.0          0.0000            0.0000   \n",
       "1647          0.0          0.0000            0.0000   \n",
       "\n",
       "      logged_activities_distance  very_active_distance  \\\n",
       "0                            0.0                   0.0   \n",
       "1                            0.0                   0.0   \n",
       "2                            0.0                   0.0   \n",
       "3                            0.0                   0.0   \n",
       "4                            0.0                   0.0   \n",
       "...                          ...                   ...   \n",
       "1643                         0.0                   0.0   \n",
       "1644                         0.0                   0.0   \n",
       "1645                         0.0                   0.0   \n",
       "1646                         0.0                   0.0   \n",
       "1647                         0.0                   0.0   \n",
       "\n",
       "      moderately_active_distance  light_active_distance  \\\n",
       "0                         0.0000                 0.0000   \n",
       "1                         0.0000                 0.0000   \n",
       "2                         0.0000                 0.0000   \n",
       "3                         0.0000                 0.0000   \n",
       "4                         0.0000                 0.0000   \n",
       "...                          ...                    ...   \n",
       "1643                      0.0000                 0.0000   \n",
       "1644                      0.2084                 2.4547   \n",
       "1645                      0.0470                 0.7407   \n",
       "1646                      0.0000                 0.0000   \n",
       "1647                      0.0000                 0.0000   \n",
       "\n",
       "      sedentary_active_distance  very_active_minutes  fairly_active_minutes  \\\n",
       "0                           0.0                  0.0                    0.0   \n",
       "1                           0.0                  0.0                    0.0   \n",
       "2                           0.0                  0.0                    0.0   \n",
       "3                           0.0                  0.0                    0.0   \n",
       "4                           0.0                  0.0                    0.0   \n",
       "...                         ...                  ...                    ...   \n",
       "1643                        0.0                  0.0                    0.0   \n",
       "1644                        0.0                  0.0                    0.0   \n",
       "1645                        0.0                  0.0                    0.0   \n",
       "1646                        0.0                  0.0                    0.0   \n",
       "1647                        0.0                  0.0                    0.0   \n",
       "\n",
       "      lightly_active_minutes  sedentary_minutes  calories floors  \\\n",
       "0                        0.0             1440.0    1489.0   None   \n",
       "1                        0.0             1440.0    1473.0   None   \n",
       "2                        0.0             1440.0    1425.0   None   \n",
       "3                        0.0             1440.0    1425.0   None   \n",
       "4                        0.0             1440.0    1425.0   None   \n",
       "...                      ...                ...       ...    ...   \n",
       "1643                     4.0             1436.0    1160.0   None   \n",
       "1644                   204.0             1236.0    1487.0   None   \n",
       "1645                    64.0             1376.0    1259.0   None   \n",
       "1646                     0.0             1440.0    1152.0   None   \n",
       "1647                     0.0              635.0     509.0   None   \n",
       "\n",
       "      calories_bmr  marginal_calories  resting_heart_rate  average_sp_o2  \\\n",
       "0           1489.0                0.0                 NaN            NaN   \n",
       "1           1457.0                0.0                 NaN            NaN   \n",
       "2           1425.0                0.0                 NaN            NaN   \n",
       "3           1425.0                0.0                 NaN            NaN   \n",
       "4           1425.0                0.0                 NaN            NaN   \n",
       "...            ...                ...                 ...            ...   \n",
       "1643        1152.0                7.0                 NaN            NaN   \n",
       "1644        1152.0              268.0                56.0            NaN   \n",
       "1645        1152.0               86.0                 NaN            NaN   \n",
       "1646        1152.0                0.0                 NaN            NaN   \n",
       "1647         508.0                0.0                 NaN            NaN   \n",
       "\n",
       "      min_sp_o2  max_sp_o2  \n",
       "0           NaN        NaN  \n",
       "1           NaN        NaN  \n",
       "2           NaN        NaN  \n",
       "3           NaN        NaN  \n",
       "4           NaN        NaN  \n",
       "...         ...        ...  \n",
       "1643        NaN        NaN  \n",
       "1644        NaN        NaN  \n",
       "1645        NaN        NaN  \n",
       "1646        NaN        NaN  \n",
       "1647        NaN        NaN  \n",
       "\n",
       "[14271 rows x 24 columns]"
      ]
     },
     "execution_count": 31,
     "metadata": {},
     "output_type": "execute_result"
    }
   ],
   "source": [
    "df_subject = pd.read_sql_query(\"SELECT * FROM subject\", conn)\n",
    "df_visit = pd.read_sql_query(\"SELECT * FROM visit\", conn)\n",
    "df_measurement = pd.read_sql_query(\"SELECT * FROM daily_measurement\", conn)\n",
    "\n",
    "# Convert date columns to datetime\n",
    "df_measurement['date'] = pd.to_datetime(df_measurement['date'])\n",
    "df_visit['date'] = pd.to_datetime(df_visit['date'])\n",
    "\n",
    "# Pad subject_id for easier sorting\n",
    "for df in [df_subject, df_visit, df_measurement]:\n",
    "    if \"subject_id\" in df.columns:\n",
    "        df[\"subject_id\"] = df[\"subject_id\"].str.replace(\n",
    "            r\"MDE(\\d+)\", \n",
    "            lambda m: f\"MDE{int(m.group(1)):03d}\", \n",
    "            regex=True\n",
    "        )\n",
    "\n",
    "# Filter measurements to only include days with measurements\n",
    "start_col = df_measurement.columns.get_loc(\"percentage_wear_time\") + 1\n",
    "right_cols = df_measurement.columns[start_col:]\n",
    "df_measurement = df_measurement[~df_measurement[right_cols].isna().all(axis=1)].reset_index(drop=True)\n",
    "df_measurement.sort_values(by=[\"subject_id\", \"date\"], inplace=True)\n",
    "df_measurement"
   ]
  },
  {
   "cell_type": "code",
   "execution_count": 32,
   "metadata": {},
   "outputs": [
    {
     "data": {
      "image/png": "[encoded data removed]",
      "text/plain": [
       "<Figure size 400x1500 with 1 Axes>"
      ]
     },
     "metadata": {},
     "output_type": "display_data"
    }
   ],
   "source": [
    "from matplotlib.colors import ListedColormap, BoundaryNorm\n",
    "import matplotlib.patches as mpatches\n",
    "import matplotlib.patches as patches\n",
    "\n",
    "from activity_tracker import utils\n",
    "\n",
    "# Load mapping and set up colors/labels\n",
    "colors = ['r', 'y', 'b']  # frail, prefrail, robust\n",
    "cmap = ListedColormap(colors)\n",
    "cmap.set_bad('white')  \n",
    "bounds = [-0.5, 0.5, 1.5, 2.5]\n",
    "norm = BoundaryNorm(bounds, cmap.N)\n",
    "\n",
    "df_heat = df_visit.copy()\n",
    "df_heat = df_heat.dropna(subset=[\"visit_id\"])\n",
    "df_heat['ffp_status'] = pd.to_numeric(df_heat['ffp_status'], errors='coerce')\n",
    "\n",
    "heat_matrix = df_heat.pivot(index='subject_id', columns='visit_id', values='ffp_status')\n",
    "\n",
    "# Ensure columns are sorted by visit number\n",
    "heat_matrix = heat_matrix.reindex(sorted(heat_matrix.columns), axis=1)\n",
    "\n",
    "# Plot\n",
    "plt.figure(figsize=(4, 15))\n",
    "ax = sns.heatmap(\n",
    "    heat_matrix,\n",
    "    cmap=cmap,\n",
    "    norm=norm,\n",
    "    linewidths=0.5,\n",
    "    linecolor='gray',\n",
    "    cbar=False,\n",
    "    square=False,\n",
    "    mask=heat_matrix.isna()\n",
    ")\n",
    "\n",
    "# Add a rectangle boundary around the heatmap\n",
    "ax.add_patch(\n",
    "    patches.Rectangle(\n",
    "        (0, 0),\n",
    "        heat_matrix.shape[1],\n",
    "        heat_matrix.shape[0],\n",
    "        fill=False,\n",
    "        edgecolor='black',\n",
    "        lw=1.5\n",
    "    )\n",
    ")\n",
    "\n",
    "# Custom legend with dots\n",
    "legend_labels = [mpatches.Patch(color=colors[i], label=mapping_dict['ffp_status'][i]) for i in range(3)]\n",
    "plt.legend(\n",
    "    handles=legend_labels,\n",
    "    bbox_to_anchor=(1.1, 0.95),\n",
    "    loc='upper left',\n",
    "    borderaxespad=0.,\n",
    "    frameon=False\n",
    ")\n",
    "\n",
    "plt.title('FFP Status')\n",
    "plt.xlabel('Visit')\n",
    "plt.ylabel('Subject ID')\n",
    "plt.tight_layout()\n",
    "plt.show()"
   ]
  },
  {
   "cell_type": "code",
   "execution_count": 50,
   "metadata": {},
   "outputs": [
    {
     "data": {
      "image/png": "[encoded data removed]",
      "text/plain": [
       "<Figure size 400x1500 with 1 Axes>"
      ]
     },
     "metadata": {},
     "output_type": "display_data"
    }
   ],
   "source": [
    "# Combine prefrail and robust into no_frail\n",
    "heat_matrix_no_frail = heat_matrix.replace({1.0: 1, 2.0: 1})\n",
    "heat_matrix_no_frail = heat_matrix_no_frail.sort_values(by=1)\n",
    "# For plotting\n",
    "colors = ['r', 'b']  # frail, no_frail\n",
    "labels = ['frail', 'no_frail']\n",
    "cmap = ListedColormap(colors)\n",
    "cmap.set_bad('white')\n",
    "bounds = [-0.5, 0.5, 1.5]\n",
    "norm = BoundaryNorm(bounds, cmap.N)\n",
    "\n",
    "plt.figure(figsize=(4, 15))\n",
    "ax = sns.heatmap(\n",
    "    heat_matrix_no_frail,\n",
    "    cmap=cmap,\n",
    "    norm=norm,\n",
    "    linewidths=0.5,\n",
    "    linecolor='gray',\n",
    "    cbar=False,\n",
    "    square=False,\n",
    "    mask=heat_matrix_no_frail.isna()\n",
    ")\n",
    "# Add a rectangle boundary around the heatmap\n",
    "ax.add_patch(\n",
    "    patches.Rectangle(\n",
    "        (0, 0),\n",
    "        heat_matrix.shape[1],\n",
    "        heat_matrix.shape[0],\n",
    "        fill=False,\n",
    "        edgecolor='black',\n",
    "        lw=1.5\n",
    "    )\n",
    ")\n",
    "\n",
    "# Custom legend\n",
    "legend_labels = [mpatches.Patch(color=colors[i], label=labels[i]) for i in range(2)]\n",
    "plt.legend(\n",
    "    handles=legend_labels,\n",
    "    bbox_to_anchor=(1.1, 0.95),\n",
    "    loc='upper left',\n",
    "    borderaxespad=0.,\n",
    "    frameon=False\n",
    ")\n",
    "\n",
    "plt.title('FFP Status (frail vs no_frail)')\n",
    "plt.xlabel('Visit')\n",
    "plt.ylabel('Subject ID')\n",
    "plt.tight_layout()\n",
    "plt.show()"
   ]
  },
  {
   "cell_type": "markdown",
   "metadata": {},
   "source": [
    "### Binary encoding of ffp_status to be frail vs. no_frail (prefrail and robust)"
   ]
  },
  {
   "cell_type": "code",
   "execution_count": 36,
   "metadata": {},
   "outputs": [],
   "source": [
    "df_visit[\"ffp_status\"] = df_visit[\"ffp_status\"].astype(float).map(mapping_dict[\"ffp_status\"])\n",
    "# Combine 'prefrail' and 'robust' into 'no_frail'\n",
    "df_visit['ffp_status_binary'] = df_visit['ffp_status'].replace({'prefrail': 'no_frail', 'robust': 'no_frail'})"
   ]
  },
  {
   "cell_type": "code",
   "execution_count": 53,
   "metadata": {},
   "outputs": [],
   "source": [
    "df_measurement.query(\"subject_id == 'MDE001'\").to_csv(\"measurement_MDE001.csv\")"
   ]
  },
  {
   "cell_type": "code",
   "execution_count": 68,
   "metadata": {},
   "outputs": [
    {
     "data": {
      "application/vnd.plotly.v1+json": {
       "config": {
        "plotlyServerURL": "https://plot.ly"
       },
       "data": [
        {
         "link": {
          "label": [
           "F→F: 16",
           "F→N: 13",
           "N→F: 8",
           "N→N: 33",
           "F→F: 12",
           "F→N: 7",
           "N→F: 6",
           "N→N: 31",
           "F→F: 10",
           "F→N: 7",
           "N→F: 4",
           "N→N: 37",
           "F→F: 12",
           "F→N: 4",
           "N→F: 7",
           "N→N: 41"
          ],
          "source": [
           0,
           0,
           1,
           1,
           2,
           2,
           3,
           3,
           4,
           4,
           5,
           5,
           6,
           6,
           7,
           7
          ],
          "target": [
           2,
           3,
           2,
           3,
           4,
           5,
           4,
           5,
           6,
           7,
           6,
           7,
           8,
           9,
           8,
           9
          ],
          "value": [
           16,
           13,
           8,
           33,
           12,
           7,
           6,
           31,
           10,
           7,
           4,
           37,
           12,
           4,
           7,
           41
          ]
         },
         "node": {
          "color": [
           "crimson",
           "royalblue",
           "crimson",
           "royalblue",
           "crimson",
           "royalblue",
           "crimson",
           "royalblue",
           "crimson",
           "royalblue"
          ],
          "label": [
           "F (36)",
           "N (53)",
           "F (24)",
           "N (46)",
           "F (18)",
           "N (41)",
           "F (19)",
           "N (49)",
           "F (19)",
           "N (46)"
          ],
          "pad": 40,
          "thickness": 40
         },
         "type": "sankey"
        }
       ],
       "layout": {
        "annotations": [
         {
          "font": {
           "size": 15
          },
          "showarrow": false,
          "text": "Visit 1",
          "x": 0,
          "xref": "paper",
          "y": -0.15,
          "yref": "paper"
         },
         {
          "font": {
           "size": 15
          },
          "showarrow": false,
          "text": "Visit 2",
          "x": 0.25,
          "xref": "paper",
          "y": -0.15,
          "yref": "paper"
         },
         {
          "font": {
           "size": 15
          },
          "showarrow": false,
          "text": "Visit 3",
          "x": 0.5,
          "xref": "paper",
          "y": -0.15,
          "yref": "paper"
         },
         {
          "font": {
           "size": 15
          },
          "showarrow": false,
          "text": "Visit 4",
          "x": 0.75,
          "xref": "paper",
          "y": -0.15,
          "yref": "paper"
         },
         {
          "font": {
           "size": 15
          },
          "showarrow": false,
          "text": "Visit 5",
          "x": 1,
          "xref": "paper",
          "y": -0.15,
          "yref": "paper"
         }
        ],
        "template": {
         "data": {
          "bar": [
           {
            "error_x": {
             "color": "#2a3f5f"
            },
            "error_y": {
             "color": "#2a3f5f"
            },
            "marker": {
             "line": {
              "color": "#E5ECF6",
              "width": 0.5
             },
             "pattern": {
              "fillmode": "overlay",
              "size": 10,
              "solidity": 0.2
             }
            },
            "type": "bar"
           }
          ],
          "barpolar": [
           {
            "marker": {
             "line": {
              "color": "#E5ECF6",
              "width": 0.5
             },
             "pattern": {
              "fillmode": "overlay",
              "size": 10,
              "solidity": 0.2
             }
            },
            "type": "barpolar"
           }
          ],
          "carpet": [
           {
            "aaxis": {
             "endlinecolor": "#2a3f5f",
             "gridcolor": "white",
             "linecolor": "white",
             "minorgridcolor": "white",
             "startlinecolor": "#2a3f5f"
            },
            "baxis": {
             "endlinecolor": "#2a3f5f",
             "gridcolor": "white",
             "linecolor": "white",
             "minorgridcolor": "white",
             "startlinecolor": "#2a3f5f"
            },
            "type": "carpet"
           }
          ],
          "choropleth": [
           {
            "colorbar": {
             "outlinewidth": 0,
             "ticks": ""
            },
            "type": "choropleth"
           }
          ],
          "contour": [
           {
            "colorbar": {
             "outlinewidth": 0,
             "ticks": ""
            },
            "colorscale": [
             [
              0,
              "#0d0887"
             ],
             [
              0.1111111111111111,
              "#46039f"
             ],
             [
              0.2222222222222222,
              "#7201a8"
             ],
             [
              0.3333333333333333,
              "#9c179e"
             ],
             [
              0.4444444444444444,
              "#bd3786"
             ],
             [
              0.5555555555555556,
              "#d8576b"
             ],
             [
              0.6666666666666666,
              "#ed7953"
             ],
             [
              0.7777777777777778,
              "#fb9f3a"
             ],
             [
              0.8888888888888888,
              "#fdca26"
             ],
             [
              1,
              "#f0f921"
             ]
            ],
            "type": "contour"
           }
          ],
          "contourcarpet": [
           {
            "colorbar": {
             "outlinewidth": 0,
             "ticks": ""
            },
            "type": "contourcarpet"
           }
          ],
          "heatmap": [
           {
            "colorbar": {
             "outlinewidth": 0,
             "ticks": ""
            },
            "colorscale": [
             [
              0,
              "#0d0887"
             ],
             [
              0.1111111111111111,
              "#46039f"
             ],
             [
              0.2222222222222222,
              "#7201a8"
             ],
             [
              0.3333333333333333,
              "#9c179e"
             ],
             [
              0.4444444444444444,
              "#bd3786"
             ],
             [
              0.5555555555555556,
              "#d8576b"
             ],
             [
              0.6666666666666666,
              "#ed7953"
             ],
             [
              0.7777777777777778,
              "#fb9f3a"
             ],
             [
              0.8888888888888888,
              "#fdca26"
             ],
             [
              1,
              "#f0f921"
             ]
            ],
            "type": "heatmap"
           }
          ],
          "histogram": [
           {
            "marker": {
             "pattern": {
              "fillmode": "overlay",
              "size": 10,
              "solidity": 0.2
             }
            },
            "type": "histogram"
           }
          ],
          "histogram2d": [
           {
            "colorbar": {
             "outlinewidth": 0,
             "ticks": ""
            },
            "colorscale": [
             [
              0,
              "#0d0887"
             ],
             [
              0.1111111111111111,
              "#46039f"
             ],
             [
              0.2222222222222222,
              "#7201a8"
             ],
             [
              0.3333333333333333,
              "#9c179e"
             ],
             [
              0.4444444444444444,
              "#bd3786"
             ],
             [
              0.5555555555555556,
              "#d8576b"
             ],
             [
              0.6666666666666666,
              "#ed7953"
             ],
             [
              0.7777777777777778,
              "#fb9f3a"
             ],
             [
              0.8888888888888888,
              "#fdca26"
             ],
             [
              1,
              "#f0f921"
             ]
            ],
            "type": "histogram2d"
           }
          ],
          "histogram2dcontour": [
           {
            "colorbar": {
             "outlinewidth": 0,
             "ticks": ""
            },
            "colorscale": [
             [
              0,
              "#0d0887"
             ],
             [
              0.1111111111111111,
              "#46039f"
             ],
             [
              0.2222222222222222,
              "#7201a8"
             ],
             [
              0.3333333333333333,
              "#9c179e"
             ],
             [
              0.4444444444444444,
              "#bd3786"
             ],
             [
              0.5555555555555556,
              "#d8576b"
             ],
             [
              0.6666666666666666,
              "#ed7953"
             ],
             [
              0.7777777777777778,
              "#fb9f3a"
             ],
             [
              0.8888888888888888,
              "#fdca26"
             ],
             [
              1,
              "#f0f921"
             ]
            ],
            "type": "histogram2dcontour"
           }
          ],
          "mesh3d": [
           {
            "colorbar": {
             "outlinewidth": 0,
             "ticks": ""
            },
            "type": "mesh3d"
           }
          ],
          "parcoords": [
           {
            "line": {
             "colorbar": {
              "outlinewidth": 0,
              "ticks": ""
             }
            },
            "type": "parcoords"
           }
          ],
          "pie": [
           {
            "automargin": true,
            "type": "pie"
           }
          ],
          "scatter": [
           {
            "fillpattern": {
             "fillmode": "overlay",
             "size": 10,
             "solidity": 0.2
            },
            "type": "scatter"
           }
          ],
          "scatter3d": [
           {
            "line": {
             "colorbar": {
              "outlinewidth": 0,
              "ticks": ""
             }
            },
            "marker": {
             "colorbar": {
              "outlinewidth": 0,
              "ticks": ""
             }
            },
            "type": "scatter3d"
           }
          ],
          "scattercarpet": [
           {
            "marker": {
             "colorbar": {
              "outlinewidth": 0,
              "ticks": ""
             }
            },
            "type": "scattercarpet"
           }
          ],
          "scattergeo": [
           {
            "marker": {
             "colorbar": {
              "outlinewidth": 0,
              "ticks": ""
             }
            },
            "type": "scattergeo"
           }
          ],
          "scattergl": [
           {
            "marker": {
             "colorbar": {
              "outlinewidth": 0,
              "ticks": ""
             }
            },
            "type": "scattergl"
           }
          ],
          "scattermap": [
           {
            "marker": {
             "colorbar": {
              "outlinewidth": 0,
              "ticks": ""
             }
            },
            "type": "scattermap"
           }
          ],
          "scattermapbox": [
           {
            "marker": {
             "colorbar": {
              "outlinewidth": 0,
              "ticks": ""
             }
            },
            "type": "scattermapbox"
           }
          ],
          "scatterpolar": [
           {
            "marker": {
             "colorbar": {
              "outlinewidth": 0,
              "ticks": ""
             }
            },
            "type": "scatterpolar"
           }
          ],
          "scatterpolargl": [
           {
            "marker": {
             "colorbar": {
              "outlinewidth": 0,
              "ticks": ""
             }
            },
            "type": "scatterpolargl"
           }
          ],
          "scatterternary": [
           {
            "marker": {
             "colorbar": {
              "outlinewidth": 0,
              "ticks": ""
             }
            },
            "type": "scatterternary"
           }
          ],
          "surface": [
           {
            "colorbar": {
             "outlinewidth": 0,
             "ticks": ""
            },
            "colorscale": [
             [
              0,
              "#0d0887"
             ],
             [
              0.1111111111111111,
              "#46039f"
             ],
             [
              0.2222222222222222,
              "#7201a8"
             ],
             [
              0.3333333333333333,
              "#9c179e"
             ],
             [
              0.4444444444444444,
              "#bd3786"
             ],
             [
              0.5555555555555556,
              "#d8576b"
             ],
             [
              0.6666666666666666,
              "#ed7953"
             ],
             [
              0.7777777777777778,
              "#fb9f3a"
             ],
             [
              0.8888888888888888,
              "#fdca26"
             ],
             [
              1,
              "#f0f921"
             ]
            ],
            "type": "surface"
           }
          ],
          "table": [
           {
            "cells": {
             "fill": {
              "color": "#EBF0F8"
             },
             "line": {
              "color": "white"
             }
            },
            "header": {
             "fill": {
              "color": "#C8D4E3"
             },
             "line": {
              "color": "white"
             }
            },
            "type": "table"
           }
          ]
         },
         "layout": {
          "annotationdefaults": {
           "arrowcolor": "#2a3f5f",
           "arrowhead": 0,
           "arrowwidth": 1
          },
          "autotypenumbers": "strict",
          "coloraxis": {
           "colorbar": {
            "outlinewidth": 0,
            "ticks": ""
           }
          },
          "colorscale": {
           "diverging": [
            [
             0,
             "#8e0152"
            ],
            [
             0.1,
             "#c51b7d"
            ],
            [
             0.2,
             "#de77ae"
            ],
            [
             0.3,
             "#f1b6da"
            ],
            [
             0.4,
             "#fde0ef"
            ],
            [
             0.5,
             "#f7f7f7"
            ],
            [
             0.6,
             "#e6f5d0"
            ],
            [
             0.7,
             "#b8e186"
            ],
            [
             0.8,
             "#7fbc41"
            ],
            [
             0.9,
             "#4d9221"
            ],
            [
             1,
             "#276419"
            ]
           ],
           "sequential": [
            [
             0,
             "#0d0887"
            ],
            [
             0.1111111111111111,
             "#46039f"
            ],
            [
             0.2222222222222222,
             "#7201a8"
            ],
            [
             0.3333333333333333,
             "#9c179e"
            ],
            [
             0.4444444444444444,
             "#bd3786"
            ],
            [
             0.5555555555555556,
             "#d8576b"
            ],
            [
             0.6666666666666666,
             "#ed7953"
            ],
            [
             0.7777777777777778,
             "#fb9f3a"
            ],
            [
             0.8888888888888888,
             "#fdca26"
            ],
            [
             1,
             "#f0f921"
            ]
           ],
           "sequentialminus": [
            [
             0,
             "#0d0887"
            ],
            [
             0.1111111111111111,
             "#46039f"
            ],
            [
             0.2222222222222222,
             "#7201a8"
            ],
            [
             0.3333333333333333,
             "#9c179e"
            ],
            [
             0.4444444444444444,
             "#bd3786"
            ],
            [
             0.5555555555555556,
             "#d8576b"
            ],
            [
             0.6666666666666666,
             "#ed7953"
            ],
            [
             0.7777777777777778,
             "#fb9f3a"
            ],
            [
             0.8888888888888888,
             "#fdca26"
            ],
            [
             1,
             "#f0f921"
            ]
           ]
          },
          "colorway": [
           "#636efa",
           "#EF553B",
           "#00cc96",
           "#ab63fa",
           "#FFA15A",
           "#19d3f3",
           "#FF6692",
           "#B6E880",
           "#FF97FF",
           "#FECB52"
          ],
          "font": {
           "color": "#2a3f5f"
          },
          "geo": {
           "bgcolor": "white",
           "lakecolor": "white",
           "landcolor": "#E5ECF6",
           "showlakes": true,
           "showland": true,
           "subunitcolor": "white"
          },
          "hoverlabel": {
           "align": "left"
          },
          "hovermode": "closest",
          "mapbox": {
           "style": "light"
          },
          "paper_bgcolor": "white",
          "plot_bgcolor": "#E5ECF6",
          "polar": {
           "angularaxis": {
            "gridcolor": "white",
            "linecolor": "white",
            "ticks": ""
           },
           "bgcolor": "#E5ECF6",
           "radialaxis": {
            "gridcolor": "white",
            "linecolor": "white",
            "ticks": ""
           }
          },
          "scene": {
           "xaxis": {
            "backgroundcolor": "#E5ECF6",
            "gridcolor": "white",
            "gridwidth": 2,
            "linecolor": "white",
            "showbackground": true,
            "ticks": "",
            "zerolinecolor": "white"
           },
           "yaxis": {
            "backgroundcolor": "#E5ECF6",
            "gridcolor": "white",
            "gridwidth": 2,
            "linecolor": "white",
            "showbackground": true,
            "ticks": "",
            "zerolinecolor": "white"
           },
           "zaxis": {
            "backgroundcolor": "#E5ECF6",
            "gridcolor": "white",
            "gridwidth": 2,
            "linecolor": "white",
            "showbackground": true,
            "ticks": "",
            "zerolinecolor": "white"
           }
          },
          "shapedefaults": {
           "line": {
            "color": "#2a3f5f"
           }
          },
          "ternary": {
           "aaxis": {
            "gridcolor": "white",
            "linecolor": "white",
            "ticks": ""
           },
           "baxis": {
            "gridcolor": "white",
            "linecolor": "white",
            "ticks": ""
           },
           "bgcolor": "#E5ECF6",
           "caxis": {
            "gridcolor": "white",
            "linecolor": "white",
            "ticks": ""
           }
          },
          "title": {
           "x": 0.05
          },
          "xaxis": {
           "automargin": true,
           "gridcolor": "white",
           "linecolor": "white",
           "ticks": "",
           "title": {
            "standoff": 15
           },
           "zerolinecolor": "white",
           "zerolinewidth": 2
          },
          "yaxis": {
           "automargin": true,
           "gridcolor": "white",
           "linecolor": "white",
           "ticks": "",
           "title": {
            "standoff": 15
           },
           "zerolinecolor": "white",
           "zerolinewidth": 2
          }
         }
        }
       }
      }
     },
     "metadata": {},
     "output_type": "display_data"
    }
   ],
   "source": [
    "# Sankey plot of frailty status transitions across visits\n",
    "import pandas as pd\n",
    "import plotly.graph_objects as go\n",
    "\n",
    "# Prepare your data\n",
    "df_wide = df_visit.pivot(index='subject_id', columns='visit_id', values='ffp_status_binary')\n",
    "df_wide = df_wide.sort_index(axis=1) \n",
    "\n",
    "labels = ['frail', 'no_frail']\n",
    "short_labels = {'frail': 'F', 'no_frail': 'N'}\n",
    "\n",
    "# Node labels: just short label (count)\n",
    "node_labels = []\n",
    "for v in range(1, df_wide.shape[1]+1):\n",
    "    for label in labels:\n",
    "        count = (df_wide[v] == label).sum()\n",
    "        node_labels.append(f\"{short_labels[label]} ({count})\")\n",
    "\n",
    "sources = []\n",
    "targets = []\n",
    "values = []\n",
    "custom_labels = []\n",
    "\n",
    "for v in range(1, df_wide.shape[1]): \n",
    "    from_states = df_wide[v]\n",
    "    to_states = df_wide[v+1]\n",
    "    ct = pd.crosstab(from_states, to_states)\n",
    "    for i, from_label in enumerate(labels):\n",
    "        for j, to_label in enumerate(labels):\n",
    "            count = ct.get(to_label, {}).get(from_label, 0)\n",
    "            if count > 0:\n",
    "                sources.append(i + (v-1)*len(labels))\n",
    "                targets.append(j + v*len(labels))\n",
    "                values.append(count)\n",
    "                custom_labels.append(f\"{short_labels[from_label]}→{short_labels[to_label]}: {count}\")\n",
    "\n",
    "# Two colors: red for frail, blue for no_frail\n",
    "color_map = {'frail': 'crimson', 'no_frail': 'royalblue'}\n",
    "node_colors = []\n",
    "for v in range(df_wide.shape[1]):\n",
    "    node_colors.extend([color_map[label] for label in labels])\n",
    "\n",
    "fig = go.Figure(data=[go.Sankey(\n",
    "    node=dict(label=node_labels, color=node_colors, pad=40, thickness=40),\n",
    "    link=dict(source=sources, target=targets, value=values, label=custom_labels)\n",
    ")])\n",
    "\n",
    "n_visits = df_wide.shape[1]\n",
    "for v in range(n_visits):\n",
    "    x = v / (n_visits - 1) if n_visits > 1 else 0.5\n",
    "    fig.add_annotation(\n",
    "        x=x,\n",
    "        y=-0.15,\n",
    "        text=f\"Visit {v+1}\",\n",
    "        showarrow=False,\n",
    "        font=dict(size=15),\n",
    "        xref=\"paper\",\n",
    "        yref=\"paper\"\n",
    "    )\n",
    "\n",
    "fig.show()"
   ]
  },
  {
   "cell_type": "code",
   "execution_count": 75,
   "metadata": {},
   "outputs": [
    {
     "name": "stdout",
     "output_type": "stream",
     "text": [
      "          frail  no_frail\n",
      "frail        53        32\n",
      "no_frail     27       150\n"
     ]
    }
   ],
   "source": [
    "# Assuming df_visit is already loaded and has 'subject_id', 'visit_id', 'ffp_status_binary'\n",
    "df = df_visit[['subject_id', 'visit_id', 'ffp_status_binary']].dropna(subset=['ffp_status_binary'])\n",
    "df = df.sort_values(['subject_id', 'visit_id'])\n",
    "\n",
    "transitions = {\n",
    "    ('frail', 'frail'): 0,\n",
    "    ('frail', 'no_frail'): 0,\n",
    "    ('no_frail', 'frail'): 0,\n",
    "    ('no_frail', 'no_frail'): 0\n",
    "}\n",
    "\n",
    "for subject, group in df.groupby('subject_id'):\n",
    "    states = group['ffp_status_binary'].tolist()\n",
    "    for i in range(len(states) - 1):\n",
    "        if pd.notna(states[i]) and pd.notna(states[i+1]):\n",
    "            transitions[(states[i], states[i+1])] += 1\n",
    "\n",
    "transition_matrix = pd.DataFrame(\n",
    "    [[transitions[('frail', 'frail')], transitions[('frail', 'no_frail')]],\n",
    "     [transitions[('no_frail', 'frail')], transitions[('no_frail', 'no_frail')]]],\n",
    "    index=['frail', 'no_frail'],\n",
    "    columns=['frail', 'no_frail']\n",
    ")\n",
    "print(transition_matrix)"
   ]
  },
  {
   "cell_type": "code",
   "execution_count": 76,
   "metadata": {},
   "outputs": [
    {
     "name": "stdout",
     "output_type": "stream",
     "text": [
      "             frail  no_frail\n",
      "frail     0.623529  0.376471\n",
      "no_frail  0.152542  0.847458\n",
      "Stationary distribution: [0.28835281 0.71164719]\n"
     ]
    }
   ],
   "source": [
    "import numpy as np\n",
    "prob_matrix = transition_matrix.div(transition_matrix.sum(axis=1), axis=0)\n",
    "print(prob_matrix)\n",
    "\n",
    "eigvals, eigvecs = np.linalg.eig(prob_matrix.T)\n",
    "stationary = np.real(eigvecs[:, np.isclose(eigvals, 1)])\n",
    "stationary = stationary / stationary.sum()\n",
    "print(\"Stationary distribution:\", stationary.flatten())"
   ]
  },
  {
   "cell_type": "code",
   "execution_count": 110,
   "metadata": {},
   "outputs": [
    {
     "data": {
      "image/png": "[encoded data removed]",
      "text/plain": [
       "<Figure size 900x500 with 1 Axes>"
      ]
     },
     "metadata": {},
     "output_type": "display_data"
    }
   ],
   "source": [
    "import matplotlib.pyplot as plt\n",
    "from matplotlib.patches import Ellipse, FancyArrowPatch\n",
    "\n",
    "# Transition probabilities\n",
    "probs = {\n",
    "    ('F', 'F'): 0.62,\n",
    "    ('F', 'N'): 0.38,\n",
    "    ('N', 'F'): 0.15,\n",
    "    ('N', 'N'): 0.85\n",
    "}\n",
    "\n",
    "# Node positions\n",
    "node_pos = {'F': (0, 0), 'N': (3, 0)}\n",
    "\n",
    "fig, ax = plt.subplots(figsize=(9, 5))\n",
    "ax.set_xlim(-2, 5)\n",
    "ax.set_ylim(-2, 2)\n",
    "ax.axis('off')\n",
    "\n",
    "# Draw ellipses for nodes\n",
    "ellipse_F = Ellipse(xy=node_pos['F'], width=1.2, height=1.2,\n",
    "                    edgecolor='orange', facecolor='#ffe5cc', lw=3)\n",
    "ellipse_N = Ellipse(xy=node_pos['N'], width=1.2, height=1.2,\n",
    "                    edgecolor='deepskyblue', facecolor='#e0f7ff', lw=3)\n",
    "ax.add_patch(ellipse_F)\n",
    "ax.add_patch(ellipse_N)\n",
    "\n",
    "# Add node labels\n",
    "ax.text(*node_pos['F'], 'F', fontsize=28, ha='center', va='center')\n",
    "ax.text(*node_pos['N'], 'N', fontsize=28, ha='center', va='center')\n",
    "\n",
    "# Arrow style\n",
    "arrowprops = dict(arrowstyle='-|>', color='black', lw=2, mutation_scale=20)\n",
    "\n",
    "# Self-loop F\n",
    "arrow = FancyArrowPatch((node_pos['F'][0] - 0.2, node_pos['F'][1] + 0.6),\n",
    "                        (node_pos['F'][0] - 0.6, node_pos['F'][1] + 0.2),\n",
    "                        connectionstyle=\"arc3,rad=0.8\", **arrowprops)\n",
    "ax.add_patch(arrow)\n",
    "ax.text(node_pos['F'][0] - 0.9, node_pos['F'][1] + 0.85,\n",
    "        f\"{probs[('F','F')]:.2f}\", fontsize=18)\n",
    "\n",
    "# Self-loop N\n",
    "arrow = FancyArrowPatch((node_pos['N'][0] + 0.2, node_pos['N'][1] + 0.6),\n",
    "                        (node_pos['N'][0] + 0.6, node_pos['N'][1] + 0.2),\n",
    "                        connectionstyle=\"arc3,rad=-0.7\", **arrowprops)\n",
    "ax.add_patch(arrow)\n",
    "ax.text(node_pos['N'][0] + 0.4, node_pos['N'][1] + 0.85,\n",
    "        f\"{probs[('N','N')]:.2f}\", fontsize=18)\n",
    "\n",
    "# F → N\n",
    "arrow = FancyArrowPatch((node_pos['F'][0] + 0.75, node_pos['F'][1] + 0.15),\n",
    "                        (node_pos['N'][0] - 0.75, node_pos['N'][1] + 0.15),\n",
    "                        connectionstyle=\"arc3,rad=0.0\", **arrowprops)\n",
    "ax.add_patch(arrow)\n",
    "ax.text(1.5, 0.4, f\"{probs[('F','N')]:.2f}\", fontsize=18, ha='center')\n",
    "\n",
    "# N → F\n",
    "arrow = FancyArrowPatch((node_pos['N'][0] - 0.75, node_pos['N'][1] - 0.15),\n",
    "                        (node_pos['F'][0] + 0.75, node_pos['F'][1] - 0.15),\n",
    "                        connectionstyle=\"arc3,rad=0.0\", **arrowprops)\n",
    "ax.add_patch(arrow)\n",
    "ax.text(1.5, -0.5, f\"{probs[('N','F')]:.2f}\", fontsize=18, ha='center')\n",
    "\n",
    "plt.tight_layout()\n",
    "plt.show()"
   ]
  }
 ],
 "metadata": {
  "kernelspec": {
   "display_name": "activity_tracker",
   "language": "python",
   "name": "python3"
  },
  "language_info": {
   "codemirror_mode": {
    "name": "ipython",
    "version": 3
   },
   "file_extension": ".py",
   "mimetype": "text/x-python",
   "name": "python",
   "nbconvert_exporter": "python",
   "pygments_lexer": "ipython3",
   "version": "3.13.2"
  }
 },
 "nbformat": 4,
 "nbformat_minor": 2
}
