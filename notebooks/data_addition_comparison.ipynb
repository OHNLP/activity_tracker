{
 "cells": [
  {
   "cell_type": "markdown",
   "id": "bf9bcb7a",
   "metadata": {},
   "source": [
    "### Run data quality check on new data"
   ]
  },
  {
   "cell_type": "code",
   "execution_count": 1,
   "id": "c7d0b0a1",
   "metadata": {},
   "outputs": [],
   "source": [
    "import pandas as pd\n",
    "import pathlib\n",
    "import warnings\n",
    "warnings.filterwarnings(\"ignore\")\n",
    "\n",
    "# Import raw data into raw schema\n",
    "data_dir = pathlib.Path(\"../data/raw/\")\n",
    "excel_path = pathlib.Path(\"../data/raw/MDE clinical data.xlsx\")\n",
    "excel_path_old = pathlib.Path(\"../data/raw/MDE clinical data_old.xlsx\")\n",
    "\n",
    "\n",
    "xls = pd.ExcelFile(excel_path)\n",
    "xls_old = pd.ExcelFile(excel_path_old)\n",
    "\n",
    "df_control = pd.read_excel(xls, sheet_name=xls.sheet_names[0])\n",
    "df_exercise = pd.read_excel(xls, sheet_name=xls.sheet_names[1])\n",
    "\n",
    "df_control_old = pd.read_excel(xls_old, sheet_name=xls_old.sheet_names[0])\n",
    "df_exercise_old = pd.read_excel(xls_old, sheet_name=xls_old.sheet_names[1])"
   ]
  },
  {
   "cell_type": "code",
   "execution_count": 2,
   "id": "fb4c43fd",
   "metadata": {},
   "outputs": [
    {
     "name": "stdout",
     "output_type": "stream",
     "text": [
      "New control subjects: {'MDE100', 'MDE101', 'MDE99', 'MDE97', 'MDE92'}\n",
      "New exercise subjects: {'MDE90', 'MDE94', 'MDE95', 'MDE93', 'MDE96', 'MDE98', 'MDE91'}\n"
     ]
    }
   ],
   "source": [
    "new_control_subjects = set(df_control[\"Participant ID\"].tolist()) - set(df_control_old[\"Participant ID\"].tolist())\n",
    "\n",
    "new_exercise_subjects = set(df_exercise[\"Participant ID\"].tolist()) - set(df_exercise_old[\"Participant ID\"].tolist())\n",
    "\n",
    "print(f\"New control subjects: {new_control_subjects}\")\n",
    "print(f\"New exercise subjects: {new_exercise_subjects}\")"
   ]
  },
  {
   "cell_type": "code",
   "execution_count": 3,
   "id": "899e27e5",
   "metadata": {},
   "outputs": [
    {
     "name": "stdout",
     "output_type": "stream",
     "text": [
      "Control data (excluding new subjects) is identical: False\n",
      "Exercise data (excluding new subjects) is identical: False\n",
      "\n",
      "Control data differences:\n",
      "Columns with differences:\n",
      "  - Gait(m/s)\n"
     ]
    },
    {
     "ename": "KeyError",
     "evalue": "'Avg Daily Steps'",
     "output_type": "error",
     "traceback": [
      "\u001b[31m---------------------------------------------------------------------------\u001b[39m",
      "\u001b[31mKeyError\u001b[39m                                  Traceback (most recent call last)",
      "\u001b[36mFile \u001b[39m\u001b[32m/opt/anaconda3/envs/activity_tracker/lib/python3.13/site-packages/pandas/core/indexes/base.py:3805\u001b[39m, in \u001b[36mIndex.get_loc\u001b[39m\u001b[34m(self, key)\u001b[39m\n\u001b[32m   3804\u001b[39m \u001b[38;5;28;01mtry\u001b[39;00m:\n\u001b[32m-> \u001b[39m\u001b[32m3805\u001b[39m     \u001b[38;5;28;01mreturn\u001b[39;00m \u001b[38;5;28mself\u001b[39m._engine.get_loc(casted_key)\n\u001b[32m   3806\u001b[39m \u001b[38;5;28;01mexcept\u001b[39;00m \u001b[38;5;167;01mKeyError\u001b[39;00m \u001b[38;5;28;01mas\u001b[39;00m err:\n",
      "\u001b[36mFile \u001b[39m\u001b[32mindex.pyx:167\u001b[39m, in \u001b[36mpandas._libs.index.IndexEngine.get_loc\u001b[39m\u001b[34m()\u001b[39m\n",
      "\u001b[36mFile \u001b[39m\u001b[32mindex.pyx:196\u001b[39m, in \u001b[36mpandas._libs.index.IndexEngine.get_loc\u001b[39m\u001b[34m()\u001b[39m\n",
      "\u001b[36mFile \u001b[39m\u001b[32mpandas/_libs/hashtable_class_helper.pxi:7081\u001b[39m, in \u001b[36mpandas._libs.hashtable.PyObjectHashTable.get_item\u001b[39m\u001b[34m()\u001b[39m\n",
      "\u001b[36mFile \u001b[39m\u001b[32mpandas/_libs/hashtable_class_helper.pxi:7089\u001b[39m, in \u001b[36mpandas._libs.hashtable.PyObjectHashTable.get_item\u001b[39m\u001b[34m()\u001b[39m\n",
      "\u001b[31mKeyError\u001b[39m: 'Avg Daily Steps'",
      "\nThe above exception was the direct cause of the following exception:\n",
      "\u001b[31mKeyError\u001b[39m                                  Traceback (most recent call last)",
      "\u001b[36mCell\u001b[39m\u001b[36m \u001b[39m\u001b[32mIn[3]\u001b[39m\u001b[32m, line 24\u001b[39m\n\u001b[32m     22\u001b[39m \u001b[38;5;28mprint\u001b[39m(\u001b[33m\"\u001b[39m\u001b[33mColumns with differences:\u001b[39m\u001b[33m\"\u001b[39m)\n\u001b[32m     23\u001b[39m \u001b[38;5;28;01mfor\u001b[39;00m col \u001b[38;5;129;01min\u001b[39;00m df_control_existing_sorted.columns:\n\u001b[32m---> \u001b[39m\u001b[32m24\u001b[39m     \u001b[38;5;28;01mif\u001b[39;00m \u001b[38;5;129;01mnot\u001b[39;00m df_control_existing_sorted[col].equals(df_control_old_sorted[col]):\n\u001b[32m     25\u001b[39m         \u001b[38;5;28mprint\u001b[39m(\u001b[33mf\u001b[39m\u001b[33m\"\u001b[39m\u001b[33m  - \u001b[39m\u001b[38;5;132;01m{\u001b[39;00mcol\u001b[38;5;132;01m}\u001b[39;00m\u001b[33m\"\u001b[39m)\n\u001b[32m     27\u001b[39m \u001b[38;5;66;03m# Show sample differences for first few columns with differences\u001b[39;00m\n",
      "\u001b[36mFile \u001b[39m\u001b[32m/opt/anaconda3/envs/activity_tracker/lib/python3.13/site-packages/pandas/core/frame.py:4102\u001b[39m, in \u001b[36mDataFrame.__getitem__\u001b[39m\u001b[34m(self, key)\u001b[39m\n\u001b[32m   4100\u001b[39m \u001b[38;5;28;01mif\u001b[39;00m \u001b[38;5;28mself\u001b[39m.columns.nlevels > \u001b[32m1\u001b[39m:\n\u001b[32m   4101\u001b[39m     \u001b[38;5;28;01mreturn\u001b[39;00m \u001b[38;5;28mself\u001b[39m._getitem_multilevel(key)\n\u001b[32m-> \u001b[39m\u001b[32m4102\u001b[39m indexer = \u001b[38;5;28mself\u001b[39m.columns.get_loc(key)\n\u001b[32m   4103\u001b[39m \u001b[38;5;28;01mif\u001b[39;00m is_integer(indexer):\n\u001b[32m   4104\u001b[39m     indexer = [indexer]\n",
      "\u001b[36mFile \u001b[39m\u001b[32m/opt/anaconda3/envs/activity_tracker/lib/python3.13/site-packages/pandas/core/indexes/base.py:3812\u001b[39m, in \u001b[36mIndex.get_loc\u001b[39m\u001b[34m(self, key)\u001b[39m\n\u001b[32m   3807\u001b[39m     \u001b[38;5;28;01mif\u001b[39;00m \u001b[38;5;28misinstance\u001b[39m(casted_key, \u001b[38;5;28mslice\u001b[39m) \u001b[38;5;129;01mor\u001b[39;00m (\n\u001b[32m   3808\u001b[39m         \u001b[38;5;28misinstance\u001b[39m(casted_key, abc.Iterable)\n\u001b[32m   3809\u001b[39m         \u001b[38;5;129;01mand\u001b[39;00m \u001b[38;5;28many\u001b[39m(\u001b[38;5;28misinstance\u001b[39m(x, \u001b[38;5;28mslice\u001b[39m) \u001b[38;5;28;01mfor\u001b[39;00m x \u001b[38;5;129;01min\u001b[39;00m casted_key)\n\u001b[32m   3810\u001b[39m     ):\n\u001b[32m   3811\u001b[39m         \u001b[38;5;28;01mraise\u001b[39;00m InvalidIndexError(key)\n\u001b[32m-> \u001b[39m\u001b[32m3812\u001b[39m     \u001b[38;5;28;01mraise\u001b[39;00m \u001b[38;5;167;01mKeyError\u001b[39;00m(key) \u001b[38;5;28;01mfrom\u001b[39;00m\u001b[38;5;250m \u001b[39m\u001b[34;01merr\u001b[39;00m\n\u001b[32m   3813\u001b[39m \u001b[38;5;28;01mexcept\u001b[39;00m \u001b[38;5;167;01mTypeError\u001b[39;00m:\n\u001b[32m   3814\u001b[39m     \u001b[38;5;66;03m# If we have a listlike key, _check_indexing_error will raise\u001b[39;00m\n\u001b[32m   3815\u001b[39m     \u001b[38;5;66;03m#  InvalidIndexError. Otherwise we fall through and re-raise\u001b[39;00m\n\u001b[32m   3816\u001b[39m     \u001b[38;5;66;03m#  the TypeError.\u001b[39;00m\n\u001b[32m   3817\u001b[39m     \u001b[38;5;28mself\u001b[39m._check_indexing_error(key)\n",
      "\u001b[31mKeyError\u001b[39m: 'Avg Daily Steps'"
     ]
    }
   ],
   "source": [
    "# Remove new subjects from both datasets to compare only existing subjects\n",
    "df_control_existing = df_control[~df_control[\"Participant ID\"].isin(new_control_subjects)]\n",
    "df_exercise_existing = df_exercise[~df_exercise[\"Participant ID\"].isin(new_exercise_subjects)]\n",
    "\n",
    "# Sort both dataframes by Participant ID to ensure proper comparison\n",
    "df_control_existing_sorted = df_control_existing.sort_values(\"Participant ID\").reset_index(drop=True)\n",
    "df_control_old_sorted = df_control_old.sort_values(\"Participant ID\").reset_index(drop=True)\n",
    "\n",
    "df_exercise_existing_sorted = df_exercise_existing.sort_values(\"Participant ID\").reset_index(drop=True)\n",
    "df_exercise_old_sorted = df_exercise_old.sort_values(\"Participant ID\").reset_index(drop=True)\n",
    "\n",
    "# Check if dataframes are identical\n",
    "control_identical = df_control_existing_sorted.equals(df_control_old_sorted)\n",
    "exercise_identical = df_exercise_existing_sorted.equals(df_exercise_old_sorted)\n",
    "\n",
    "print(f\"Control data (excluding new subjects) is identical: {control_identical}\")\n",
    "print(f\"Exercise data (excluding new subjects) is identical: {exercise_identical}\")\n",
    "\n",
    "# If not identical, show differences\n",
    "if not control_identical:\n",
    "    print(\"\\nControl data differences:\")\n",
    "    print(\"Columns with differences:\")\n",
    "    for col in df_control_existing_sorted.columns:\n",
    "        if not df_control_existing_sorted[col].equals(df_control_old_sorted[col]):\n",
    "            print(f\"  - {col}\")\n",
    "    \n",
    "    # Show sample differences for first few columns with differences\n",
    "    diff_cols = [col for col in df_control_existing_sorted.columns \n",
    "                  if not df_control_existing_sorted[col].equals(df_control_old_sorted[col])]\n",
    "    if diff_cols:\n",
    "        print(f\"\\nSample differences in {diff_cols[0]}:\")\n",
    "        comparison = pd.concat([\n",
    "            df_control_old_sorted[[\"Participant ID\", diff_cols[0]]].rename(columns={diff_cols[0]: \"Old\"}),\n",
    "            df_control_existing_sorted[[\"Participant ID\", diff_cols[0]]].rename(columns={diff_cols[0]: \"New\"})\n",
    "        ], axis=1)\n",
    "        print(comparison.head(10))\n",
    "\n",
    "if not exercise_identical:\n",
    "    print(\"\\nExercise data differences:\")\n",
    "    # Similar analysis for exercise data"
   ]
  },
  {
   "cell_type": "code",
   "execution_count": 4,
   "id": "cc917e6c",
   "metadata": {},
   "outputs": [
    {
     "data": {
      "text/plain": [
       "{'Avg Daily Steps',\n",
       " 'Avg Daily Steps.1',\n",
       " 'Avg Daily Steps.2',\n",
       " 'Avg Daily Steps.3',\n",
       " 'Avg Daily Steps.4',\n",
       " 'Fecal',\n",
       " 'Fecal.1',\n",
       " 'Fecal.2',\n",
       " 'Mem Cat',\n",
       " 'Mem Cat.1',\n",
       " 'Mem Cat.2'}"
      ]
     },
     "execution_count": 4,
     "metadata": {},
     "output_type": "execute_result"
    }
   ],
   "source": [
    "set(df_control.columns) - set(df_control_old.columns)\n"
   ]
  }
 ],
 "metadata": {
  "kernelspec": {
   "display_name": "activity_tracker",
   "language": "python",
   "name": "python3"
  },
  "language_info": {
   "codemirror_mode": {
    "name": "ipython",
    "version": 3
   },
   "file_extension": ".py",
   "mimetype": "text/x-python",
   "name": "python",
   "nbconvert_exporter": "python",
   "pygments_lexer": "ipython3",
   "version": "3.13.2"
  }
 },
 "nbformat": 4,
 "nbformat_minor": 5
}
